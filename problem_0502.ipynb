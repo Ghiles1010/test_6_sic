{
  "nbformat": 4,
  "nbformat_minor": 2,
  "metadata": {
    "kernelspec": {
      "name": "python3",
      "display_name": "Python 3.8.2 64-bit"
    },
    "language_info": {
      "codemirror_mode": {
        "name": "ipython",
        "version": 3
      },
      "file_extension": ".py",
      "mimetype": "text/x-python",
      "name": "python",
      "nbconvert_exporter": "python",
      "pygments_lexer": "ipython3",
      "version": "3.8.2"
    },
    "colab": {
      "name": "problem_0502.ipynb",
      "provenance": []
    },
    "interpreter": {
      "hash": "fd88d7af6e94c6929b65b5dc552f91130e2e10e9038db61f82cd7f9c6aff4407"
    }
  },
  "cells": [
    {
      "cell_type": "markdown",
      "source": [
        "## Quiz #0502"
      ],
      "metadata": {
        "id": "gc0c_QDyz9la"
      }
    },
    {
      "cell_type": "markdown",
      "source": [
        "### \"Human Activity Recognition\" "
      ],
      "metadata": {
        "id": "gg5-Q7hwz9lc"
      }
    },
    {
      "cell_type": "markdown",
      "source": [
        "#### Answer the following questions by providing Python code:\r\n",
        "#### Objectives:\r\n",
        "- Carry out the EDA.\r\n",
        "- Carry out the data pre-processing.\r\n",
        "- Optimize and test a predictive model of your choice."
      ],
      "metadata": {
        "id": "AK-HfZSVz9ld"
      }
    },
    {
      "cell_type": "code",
      "execution_count": 68,
      "source": [
        "import numpy as np\r\n",
        "import pandas as pd\r\n",
        "import matplotlib.pyplot as plt\r\n",
        "import seaborn as sns\r\n",
        "import os\r\n",
        "import warnings\r\n",
        "from sklearn.model_selection import train_test_split, GridSearchCV\r\n",
        "from sklearn.neighbors import KNeighborsClassifier\r\n",
        "from sklearn.tree import DecisionTreeClassifier\r\n",
        "from sklearn.ensemble import RandomForestClassifier,AdaBoostClassifier, GradientBoostingClassifier\r\n",
        "from xgboost import XGBClassifier\r\n",
        "from sklearn import metrics, preprocessing\r\n",
        "warnings.filterwarnings(action='ignore')                  # Turn off the warnings.\r\n",
        "%matplotlib inline"
      ],
      "outputs": [],
      "metadata": {
        "id": "09KTmndGz9ld"
      }
    },
    {
      "cell_type": "markdown",
      "source": [
        "#### Read in data:\n",
        "The explanation on the dataset can be found [here](https://archive.ics.uci.edu/ml/datasets/human+activity+recognition+using+smartphones)."
      ],
      "metadata": {
        "id": "uqIxoAEXz9le"
      }
    },
    {
      "cell_type": "code",
      "execution_count": 69,
      "source": [
        "# Go to the directory where the data file is located. \r\n",
        "# os.chdir(r'~~')                # Please, replace the path with your own. "
      ],
      "outputs": [],
      "metadata": {
        "id": "T4HTIdmuz9le"
      }
    },
    {
      "cell_type": "code",
      "execution_count": 70,
      "source": [
        "df = pd.read_csv('data_human activity recognition.csv', header='infer')"
      ],
      "outputs": [],
      "metadata": {
        "id": "q9I9VS7Kz9lf"
      }
    },
    {
      "cell_type": "code",
      "execution_count": 71,
      "source": [
        "df.shape"
      ],
      "outputs": [
        {
          "output_type": "execute_result",
          "data": {
            "text/plain": [
              "(19622, 160)"
            ]
          },
          "metadata": {},
          "execution_count": 71
        }
      ],
      "metadata": {
        "id": "NYfBecxSz9lf"
      }
    },
    {
      "cell_type": "code",
      "execution_count": 72,
      "source": [
        "df.columns"
      ],
      "outputs": [
        {
          "output_type": "execute_result",
          "data": {
            "text/plain": [
              "Index(['Unnamed: 0', 'user_name', 'raw_timestamp_part_1',\n",
              "       'raw_timestamp_part_2', 'cvtd_timestamp', 'new_window', 'num_window',\n",
              "       'roll_belt', 'pitch_belt', 'yaw_belt',\n",
              "       ...\n",
              "       'gyros_forearm_x', 'gyros_forearm_y', 'gyros_forearm_z',\n",
              "       'accel_forearm_x', 'accel_forearm_y', 'accel_forearm_z',\n",
              "       'magnet_forearm_x', 'magnet_forearm_y', 'magnet_forearm_z', 'classe'],\n",
              "      dtype='object', length=160)"
            ]
          },
          "metadata": {},
          "execution_count": 72
        }
      ],
      "metadata": {
        "id": "vb5_SYjjz9lf"
      }
    },
    {
      "cell_type": "code",
      "execution_count": 73,
      "source": [
        "df.head()"
      ],
      "outputs": [
        {
          "output_type": "execute_result",
          "data": {
            "text/plain": [
              "   Unnamed: 0 user_name  raw_timestamp_part_1  raw_timestamp_part_2  \\\n",
              "0           1  carlitos            1323084231                788290   \n",
              "1           2  carlitos            1323084231                808298   \n",
              "2           3  carlitos            1323084231                820366   \n",
              "3           4  carlitos            1323084232                120339   \n",
              "4           5  carlitos            1323084232                196328   \n",
              "\n",
              "     cvtd_timestamp new_window  num_window  roll_belt  pitch_belt  yaw_belt  \\\n",
              "0  05/12/2011 11:23         no          11       1.41        8.07     -94.4   \n",
              "1  05/12/2011 11:23         no          11       1.41        8.07     -94.4   \n",
              "2  05/12/2011 11:23         no          11       1.42        8.07     -94.4   \n",
              "3  05/12/2011 11:23         no          12       1.48        8.05     -94.4   \n",
              "4  05/12/2011 11:23         no          12       1.48        8.07     -94.4   \n",
              "\n",
              "   ...  gyros_forearm_x gyros_forearm_y gyros_forearm_z accel_forearm_x  \\\n",
              "0  ...             0.03            0.00           -0.02             192   \n",
              "1  ...             0.02            0.00           -0.02             192   \n",
              "2  ...             0.03           -0.02            0.00             196   \n",
              "3  ...             0.02           -0.02            0.00             189   \n",
              "4  ...             0.02            0.00           -0.02             189   \n",
              "\n",
              "  accel_forearm_y accel_forearm_z magnet_forearm_x  magnet_forearm_y  \\\n",
              "0             203            -215              -17             654.0   \n",
              "1             203            -216              -18             661.0   \n",
              "2             204            -213              -18             658.0   \n",
              "3             206            -214              -16             658.0   \n",
              "4             206            -214              -17             655.0   \n",
              "\n",
              "   magnet_forearm_z classe  \n",
              "0             476.0      A  \n",
              "1             473.0      A  \n",
              "2             469.0      A  \n",
              "3             469.0      A  \n",
              "4             473.0      A  \n",
              "\n",
              "[5 rows x 160 columns]"
            ],
            "text/html": [
              "<div>\n",
              "<style scoped>\n",
              "    .dataframe tbody tr th:only-of-type {\n",
              "        vertical-align: middle;\n",
              "    }\n",
              "\n",
              "    .dataframe tbody tr th {\n",
              "        vertical-align: top;\n",
              "    }\n",
              "\n",
              "    .dataframe thead th {\n",
              "        text-align: right;\n",
              "    }\n",
              "</style>\n",
              "<table border=\"1\" class=\"dataframe\">\n",
              "  <thead>\n",
              "    <tr style=\"text-align: right;\">\n",
              "      <th></th>\n",
              "      <th>Unnamed: 0</th>\n",
              "      <th>user_name</th>\n",
              "      <th>raw_timestamp_part_1</th>\n",
              "      <th>raw_timestamp_part_2</th>\n",
              "      <th>cvtd_timestamp</th>\n",
              "      <th>new_window</th>\n",
              "      <th>num_window</th>\n",
              "      <th>roll_belt</th>\n",
              "      <th>pitch_belt</th>\n",
              "      <th>yaw_belt</th>\n",
              "      <th>...</th>\n",
              "      <th>gyros_forearm_x</th>\n",
              "      <th>gyros_forearm_y</th>\n",
              "      <th>gyros_forearm_z</th>\n",
              "      <th>accel_forearm_x</th>\n",
              "      <th>accel_forearm_y</th>\n",
              "      <th>accel_forearm_z</th>\n",
              "      <th>magnet_forearm_x</th>\n",
              "      <th>magnet_forearm_y</th>\n",
              "      <th>magnet_forearm_z</th>\n",
              "      <th>classe</th>\n",
              "    </tr>\n",
              "  </thead>\n",
              "  <tbody>\n",
              "    <tr>\n",
              "      <th>0</th>\n",
              "      <td>1</td>\n",
              "      <td>carlitos</td>\n",
              "      <td>1323084231</td>\n",
              "      <td>788290</td>\n",
              "      <td>05/12/2011 11:23</td>\n",
              "      <td>no</td>\n",
              "      <td>11</td>\n",
              "      <td>1.41</td>\n",
              "      <td>8.07</td>\n",
              "      <td>-94.4</td>\n",
              "      <td>...</td>\n",
              "      <td>0.03</td>\n",
              "      <td>0.00</td>\n",
              "      <td>-0.02</td>\n",
              "      <td>192</td>\n",
              "      <td>203</td>\n",
              "      <td>-215</td>\n",
              "      <td>-17</td>\n",
              "      <td>654.0</td>\n",
              "      <td>476.0</td>\n",
              "      <td>A</td>\n",
              "    </tr>\n",
              "    <tr>\n",
              "      <th>1</th>\n",
              "      <td>2</td>\n",
              "      <td>carlitos</td>\n",
              "      <td>1323084231</td>\n",
              "      <td>808298</td>\n",
              "      <td>05/12/2011 11:23</td>\n",
              "      <td>no</td>\n",
              "      <td>11</td>\n",
              "      <td>1.41</td>\n",
              "      <td>8.07</td>\n",
              "      <td>-94.4</td>\n",
              "      <td>...</td>\n",
              "      <td>0.02</td>\n",
              "      <td>0.00</td>\n",
              "      <td>-0.02</td>\n",
              "      <td>192</td>\n",
              "      <td>203</td>\n",
              "      <td>-216</td>\n",
              "      <td>-18</td>\n",
              "      <td>661.0</td>\n",
              "      <td>473.0</td>\n",
              "      <td>A</td>\n",
              "    </tr>\n",
              "    <tr>\n",
              "      <th>2</th>\n",
              "      <td>3</td>\n",
              "      <td>carlitos</td>\n",
              "      <td>1323084231</td>\n",
              "      <td>820366</td>\n",
              "      <td>05/12/2011 11:23</td>\n",
              "      <td>no</td>\n",
              "      <td>11</td>\n",
              "      <td>1.42</td>\n",
              "      <td>8.07</td>\n",
              "      <td>-94.4</td>\n",
              "      <td>...</td>\n",
              "      <td>0.03</td>\n",
              "      <td>-0.02</td>\n",
              "      <td>0.00</td>\n",
              "      <td>196</td>\n",
              "      <td>204</td>\n",
              "      <td>-213</td>\n",
              "      <td>-18</td>\n",
              "      <td>658.0</td>\n",
              "      <td>469.0</td>\n",
              "      <td>A</td>\n",
              "    </tr>\n",
              "    <tr>\n",
              "      <th>3</th>\n",
              "      <td>4</td>\n",
              "      <td>carlitos</td>\n",
              "      <td>1323084232</td>\n",
              "      <td>120339</td>\n",
              "      <td>05/12/2011 11:23</td>\n",
              "      <td>no</td>\n",
              "      <td>12</td>\n",
              "      <td>1.48</td>\n",
              "      <td>8.05</td>\n",
              "      <td>-94.4</td>\n",
              "      <td>...</td>\n",
              "      <td>0.02</td>\n",
              "      <td>-0.02</td>\n",
              "      <td>0.00</td>\n",
              "      <td>189</td>\n",
              "      <td>206</td>\n",
              "      <td>-214</td>\n",
              "      <td>-16</td>\n",
              "      <td>658.0</td>\n",
              "      <td>469.0</td>\n",
              "      <td>A</td>\n",
              "    </tr>\n",
              "    <tr>\n",
              "      <th>4</th>\n",
              "      <td>5</td>\n",
              "      <td>carlitos</td>\n",
              "      <td>1323084232</td>\n",
              "      <td>196328</td>\n",
              "      <td>05/12/2011 11:23</td>\n",
              "      <td>no</td>\n",
              "      <td>12</td>\n",
              "      <td>1.48</td>\n",
              "      <td>8.07</td>\n",
              "      <td>-94.4</td>\n",
              "      <td>...</td>\n",
              "      <td>0.02</td>\n",
              "      <td>0.00</td>\n",
              "      <td>-0.02</td>\n",
              "      <td>189</td>\n",
              "      <td>206</td>\n",
              "      <td>-214</td>\n",
              "      <td>-17</td>\n",
              "      <td>655.0</td>\n",
              "      <td>473.0</td>\n",
              "      <td>A</td>\n",
              "    </tr>\n",
              "  </tbody>\n",
              "</table>\n",
              "<p>5 rows × 160 columns</p>\n",
              "</div>"
            ]
          },
          "metadata": {},
          "execution_count": 73
        }
      ],
      "metadata": {}
    },
    {
      "cell_type": "code",
      "execution_count": 74,
      "source": [
        "df.classe.unique()"
      ],
      "outputs": [
        {
          "output_type": "execute_result",
          "data": {
            "text/plain": [
              "array(['A', 'B', 'C', 'D', 'E'], dtype=object)"
            ]
          },
          "metadata": {},
          "execution_count": 74
        }
      ],
      "metadata": {}
    },
    {
      "cell_type": "markdown",
      "source": [
        "1). Carry out the EDA. Check for the missing values. HINT: The response variable is 'classe'."
      ],
      "metadata": {
        "id": "lINfia61z9lf"
      }
    },
    {
      "cell_type": "code",
      "execution_count": 75,
      "source": [
        "df_sum_null = df.isnull().sum()\r\n",
        "df_sum_null[df_sum_null > 0]"
      ],
      "outputs": [
        {
          "output_type": "execute_result",
          "data": {
            "text/plain": [
              "kurtosis_roll_belt      19216\n",
              "kurtosis_picth_belt     19216\n",
              "kurtosis_yaw_belt       19216\n",
              "skewness_roll_belt      19216\n",
              "skewness_roll_belt.1    19216\n",
              "                        ...  \n",
              "stddev_pitch_forearm    19216\n",
              "var_pitch_forearm       19216\n",
              "avg_yaw_forearm         19216\n",
              "stddev_yaw_forearm      19216\n",
              "var_yaw_forearm         19216\n",
              "Length: 100, dtype: int64"
            ]
          },
          "metadata": {},
          "execution_count": 75
        }
      ],
      "metadata": {
        "id": "qW8fLXl6z9lf"
      }
    },
    {
      "cell_type": "markdown",
      "source": [
        "We can see that there is 100 columns with missing values"
      ],
      "metadata": {}
    },
    {
      "cell_type": "code",
      "execution_count": 76,
      "source": [
        "df_sum_null[df_sum_null > 0].unique()"
      ],
      "outputs": [
        {
          "output_type": "execute_result",
          "data": {
            "text/plain": [
              "array([19216], dtype=int64)"
            ]
          },
          "metadata": {},
          "execution_count": 76
        }
      ],
      "metadata": {}
    },
    {
      "cell_type": "markdown",
      "source": [
        "We can also see that all the columns with missing values have the same number of missing values"
      ],
      "metadata": {}
    },
    {
      "cell_type": "markdown",
      "source": [
        "2). Get rid of the columns that have more than 97% missing values."
      ],
      "metadata": {
        "id": "Nt97aqnfz9lg"
      }
    },
    {
      "cell_type": "code",
      "execution_count": 77,
      "source": [
        "treshhold = 0.97 * df.shape[0]\r\n",
        "for column in df.columns:\r\n",
        "    if df[column].isnull().sum() > treshhold:\r\n",
        "        df.drop(column, axis=1, inplace=True)"
      ],
      "outputs": [],
      "metadata": {
        "id": "RzdReEJdz9lg"
      }
    },
    {
      "cell_type": "code",
      "execution_count": 78,
      "source": [
        "df.columns"
      ],
      "outputs": [
        {
          "output_type": "execute_result",
          "data": {
            "text/plain": [
              "Index(['Unnamed: 0', 'user_name', 'raw_timestamp_part_1',\n",
              "       'raw_timestamp_part_2', 'cvtd_timestamp', 'new_window', 'num_window',\n",
              "       'roll_belt', 'pitch_belt', 'yaw_belt', 'total_accel_belt',\n",
              "       'gyros_belt_x', 'gyros_belt_y', 'gyros_belt_z', 'accel_belt_x',\n",
              "       'accel_belt_y', 'accel_belt_z', 'magnet_belt_x', 'magnet_belt_y',\n",
              "       'magnet_belt_z', 'roll_arm', 'pitch_arm', 'yaw_arm', 'total_accel_arm',\n",
              "       'gyros_arm_x', 'gyros_arm_y', 'gyros_arm_z', 'accel_arm_x',\n",
              "       'accel_arm_y', 'accel_arm_z', 'magnet_arm_x', 'magnet_arm_y',\n",
              "       'magnet_arm_z', 'roll_dumbbell', 'pitch_dumbbell', 'yaw_dumbbell',\n",
              "       'total_accel_dumbbell', 'gyros_dumbbell_x', 'gyros_dumbbell_y',\n",
              "       'gyros_dumbbell_z', 'accel_dumbbell_x', 'accel_dumbbell_y',\n",
              "       'accel_dumbbell_z', 'magnet_dumbbell_x', 'magnet_dumbbell_y',\n",
              "       'magnet_dumbbell_z', 'roll_forearm', 'pitch_forearm', 'yaw_forearm',\n",
              "       'total_accel_forearm', 'gyros_forearm_x', 'gyros_forearm_y',\n",
              "       'gyros_forearm_z', 'accel_forearm_x', 'accel_forearm_y',\n",
              "       'accel_forearm_z', 'magnet_forearm_x', 'magnet_forearm_y',\n",
              "       'magnet_forearm_z', 'classe'],\n",
              "      dtype='object')"
            ]
          },
          "metadata": {},
          "execution_count": 78
        }
      ],
      "metadata": {}
    },
    {
      "cell_type": "markdown",
      "source": [
        "3). Get rid of the unnecessary columns. HINT: Those columns with \"time\" in the name and those that are obviously unnecessary."
      ],
      "metadata": {
        "id": "6buNE_iLz9lg"
      }
    },
    {
      "cell_type": "code",
      "execution_count": 79,
      "source": [
        "# we don't need the index column\r\n",
        "df.drop(\"Unnamed: 0\", axis=1, inplace=True)\r\n",
        "\r\n",
        "#we don't need the username\r\n",
        "df.drop(\"user_name\", axis=1, inplace=True)\r\n",
        "\r\n",
        "# removing columns with time in in their name\r\n",
        "time_columns = [col for col in df.columns if 'time' in col]\r\n",
        "df.drop(time_columns, axis=1, inplace=True)\r\n",
        "\r\n",
        "# num_window and new_window are time related columns\r\n",
        "df.drop([\"num_window\", \"new_window\"], axis=1, inplace=True)"
      ],
      "outputs": [],
      "metadata": {
        "id": "mqxZ4VpHz9lg"
      }
    },
    {
      "cell_type": "code",
      "execution_count": 82,
      "source": [
        "df.columns"
      ],
      "outputs": [
        {
          "output_type": "execute_result",
          "data": {
            "text/plain": [
              "Index(['roll_belt', 'pitch_belt', 'yaw_belt', 'total_accel_belt',\n",
              "       'gyros_belt_x', 'gyros_belt_y', 'gyros_belt_z', 'accel_belt_x',\n",
              "       'accel_belt_y', 'accel_belt_z', 'magnet_belt_x', 'magnet_belt_y',\n",
              "       'magnet_belt_z', 'roll_arm', 'pitch_arm', 'yaw_arm', 'total_accel_arm',\n",
              "       'gyros_arm_x', 'gyros_arm_y', 'gyros_arm_z', 'accel_arm_x',\n",
              "       'accel_arm_y', 'accel_arm_z', 'magnet_arm_x', 'magnet_arm_y',\n",
              "       'magnet_arm_z', 'roll_dumbbell', 'pitch_dumbbell', 'yaw_dumbbell',\n",
              "       'total_accel_dumbbell', 'gyros_dumbbell_x', 'gyros_dumbbell_y',\n",
              "       'gyros_dumbbell_z', 'accel_dumbbell_x', 'accel_dumbbell_y',\n",
              "       'accel_dumbbell_z', 'magnet_dumbbell_x', 'magnet_dumbbell_y',\n",
              "       'magnet_dumbbell_z', 'roll_forearm', 'pitch_forearm', 'yaw_forearm',\n",
              "       'total_accel_forearm', 'gyros_forearm_x', 'gyros_forearm_y',\n",
              "       'gyros_forearm_z', 'accel_forearm_x', 'accel_forearm_y',\n",
              "       'accel_forearm_z', 'magnet_forearm_x', 'magnet_forearm_y',\n",
              "       'magnet_forearm_z', 'classe'],\n",
              "      dtype='object')"
            ]
          },
          "metadata": {},
          "execution_count": 82
        }
      ],
      "metadata": {}
    },
    {
      "cell_type": "code",
      "execution_count": 83,
      "source": [
        "num_col = df.select_dtypes(include=np.number).columns.tolist()\r\n",
        "df.columns.difference(num_col)"
      ],
      "outputs": [
        {
          "output_type": "execute_result",
          "data": {
            "text/plain": [
              "Index(['classe'], dtype='object')"
            ]
          },
          "metadata": {},
          "execution_count": 83
        }
      ],
      "metadata": {}
    },
    {
      "cell_type": "markdown",
      "source": [
        "'classe' is the only non-numeric feature, we need to encode it"
      ],
      "metadata": {}
    },
    {
      "cell_type": "markdown",
      "source": [
        "4). Label encode the responde variable. HINT: use preprocessing.LabelEncoder(). "
      ],
      "metadata": {
        "id": "pPrtMUQFz9lg"
      }
    },
    {
      "cell_type": "code",
      "execution_count": 84,
      "source": [
        "le = preprocessing.LabelEncoder()\r\n",
        "le.fit_transform(df[\"classe\"])\r\n",
        "df[\"classe\"] = le.transform(df[\"classe\"])"
      ],
      "outputs": [],
      "metadata": {
        "id": "A6ia2EiLz9lg"
      }
    },
    {
      "cell_type": "markdown",
      "source": [
        "5). Carry out min-max scaling of the exploratory variables. HINT: use preprocessing.MinMaxScaler()."
      ],
      "metadata": {
        "id": "VXzVfW5dz9lh"
      }
    },
    {
      "cell_type": "code",
      "execution_count": 85,
      "source": [
        "df_target = df[\"classe\"]\r\n",
        "df_data = df.drop(\"classe\", axis=1)\r\n",
        "x_columns = df_data.columns\r\n",
        "\r\n",
        "# scaling the data\r\n",
        "df_data = preprocessing.MinMaxScaler().fit_transform(df_data)\r\n",
        "\r\n",
        "df_data = pd.DataFrame(df_data, columns=x_columns)\r\n",
        "df= pd.concat([df_data, df_target], axis=1)\r\n",
        "\r\n",
        "df.head()"
      ],
      "outputs": [
        {
          "output_type": "execute_result",
          "data": {
            "text/plain": [
              "   roll_belt  pitch_belt  yaw_belt  total_accel_belt  gyros_belt_x  \\\n",
              "0   0.158774    0.550129   0.23844          0.103448      0.319018   \n",
              "1   0.158774    0.550129   0.23844          0.103448      0.325153   \n",
              "2   0.158827    0.550129   0.23844          0.103448      0.319018   \n",
              "3   0.159141    0.549957   0.23844          0.103448      0.325153   \n",
              "4   0.159141    0.550129   0.23844          0.103448      0.325153   \n",
              "\n",
              "   gyros_belt_y  gyros_belt_z  accel_belt_x  accel_belt_y  accel_belt_z  ...  \\\n",
              "0      0.500000      0.467532      0.482927      0.313305      0.781579  ...   \n",
              "1      0.500000      0.467532      0.478049      0.313305      0.781579  ...   \n",
              "2      0.500000      0.467532      0.487805      0.317597      0.784211  ...   \n",
              "3      0.500000      0.464286      0.478049      0.309013      0.778947  ...   \n",
              "4      0.515625      0.467532      0.482927      0.304721      0.786842  ...   \n",
              "\n",
              "   gyros_forearm_x  gyros_forearm_y  gyros_forearm_z  accel_forearm_x  \\\n",
              "0         0.848286         0.022074         0.033753         0.707692   \n",
              "1         0.847901         0.022074         0.033753         0.707692   \n",
              "2         0.848286         0.022011         0.033837         0.711795   \n",
              "3         0.847901         0.022011         0.033837         0.704615   \n",
              "4         0.847901         0.022074         0.033753         0.704615   \n",
              "\n",
              "   accel_forearm_y  accel_forearm_z  magnet_forearm_x  magnet_forearm_y  \\\n",
              "0         0.536977         0.313433          0.647029          0.652357   \n",
              "1         0.536977         0.312076          0.646516          0.655303   \n",
              "2         0.537621         0.316147          0.646516          0.654040   \n",
              "3         0.538907         0.314790          0.647541          0.654040   \n",
              "4         0.538907         0.314790          0.647029          0.652778   \n",
              "\n",
              "   magnet_forearm_z  classe  \n",
              "0          0.702375       0  \n",
              "1          0.700921       0  \n",
              "2          0.698982       0  \n",
              "3          0.698982       0  \n",
              "4          0.700921       0  \n",
              "\n",
              "[5 rows x 53 columns]"
            ],
            "text/html": [
              "<div>\n",
              "<style scoped>\n",
              "    .dataframe tbody tr th:only-of-type {\n",
              "        vertical-align: middle;\n",
              "    }\n",
              "\n",
              "    .dataframe tbody tr th {\n",
              "        vertical-align: top;\n",
              "    }\n",
              "\n",
              "    .dataframe thead th {\n",
              "        text-align: right;\n",
              "    }\n",
              "</style>\n",
              "<table border=\"1\" class=\"dataframe\">\n",
              "  <thead>\n",
              "    <tr style=\"text-align: right;\">\n",
              "      <th></th>\n",
              "      <th>roll_belt</th>\n",
              "      <th>pitch_belt</th>\n",
              "      <th>yaw_belt</th>\n",
              "      <th>total_accel_belt</th>\n",
              "      <th>gyros_belt_x</th>\n",
              "      <th>gyros_belt_y</th>\n",
              "      <th>gyros_belt_z</th>\n",
              "      <th>accel_belt_x</th>\n",
              "      <th>accel_belt_y</th>\n",
              "      <th>accel_belt_z</th>\n",
              "      <th>...</th>\n",
              "      <th>gyros_forearm_x</th>\n",
              "      <th>gyros_forearm_y</th>\n",
              "      <th>gyros_forearm_z</th>\n",
              "      <th>accel_forearm_x</th>\n",
              "      <th>accel_forearm_y</th>\n",
              "      <th>accel_forearm_z</th>\n",
              "      <th>magnet_forearm_x</th>\n",
              "      <th>magnet_forearm_y</th>\n",
              "      <th>magnet_forearm_z</th>\n",
              "      <th>classe</th>\n",
              "    </tr>\n",
              "  </thead>\n",
              "  <tbody>\n",
              "    <tr>\n",
              "      <th>0</th>\n",
              "      <td>0.158774</td>\n",
              "      <td>0.550129</td>\n",
              "      <td>0.23844</td>\n",
              "      <td>0.103448</td>\n",
              "      <td>0.319018</td>\n",
              "      <td>0.500000</td>\n",
              "      <td>0.467532</td>\n",
              "      <td>0.482927</td>\n",
              "      <td>0.313305</td>\n",
              "      <td>0.781579</td>\n",
              "      <td>...</td>\n",
              "      <td>0.848286</td>\n",
              "      <td>0.022074</td>\n",
              "      <td>0.033753</td>\n",
              "      <td>0.707692</td>\n",
              "      <td>0.536977</td>\n",
              "      <td>0.313433</td>\n",
              "      <td>0.647029</td>\n",
              "      <td>0.652357</td>\n",
              "      <td>0.702375</td>\n",
              "      <td>0</td>\n",
              "    </tr>\n",
              "    <tr>\n",
              "      <th>1</th>\n",
              "      <td>0.158774</td>\n",
              "      <td>0.550129</td>\n",
              "      <td>0.23844</td>\n",
              "      <td>0.103448</td>\n",
              "      <td>0.325153</td>\n",
              "      <td>0.500000</td>\n",
              "      <td>0.467532</td>\n",
              "      <td>0.478049</td>\n",
              "      <td>0.313305</td>\n",
              "      <td>0.781579</td>\n",
              "      <td>...</td>\n",
              "      <td>0.847901</td>\n",
              "      <td>0.022074</td>\n",
              "      <td>0.033753</td>\n",
              "      <td>0.707692</td>\n",
              "      <td>0.536977</td>\n",
              "      <td>0.312076</td>\n",
              "      <td>0.646516</td>\n",
              "      <td>0.655303</td>\n",
              "      <td>0.700921</td>\n",
              "      <td>0</td>\n",
              "    </tr>\n",
              "    <tr>\n",
              "      <th>2</th>\n",
              "      <td>0.158827</td>\n",
              "      <td>0.550129</td>\n",
              "      <td>0.23844</td>\n",
              "      <td>0.103448</td>\n",
              "      <td>0.319018</td>\n",
              "      <td>0.500000</td>\n",
              "      <td>0.467532</td>\n",
              "      <td>0.487805</td>\n",
              "      <td>0.317597</td>\n",
              "      <td>0.784211</td>\n",
              "      <td>...</td>\n",
              "      <td>0.848286</td>\n",
              "      <td>0.022011</td>\n",
              "      <td>0.033837</td>\n",
              "      <td>0.711795</td>\n",
              "      <td>0.537621</td>\n",
              "      <td>0.316147</td>\n",
              "      <td>0.646516</td>\n",
              "      <td>0.654040</td>\n",
              "      <td>0.698982</td>\n",
              "      <td>0</td>\n",
              "    </tr>\n",
              "    <tr>\n",
              "      <th>3</th>\n",
              "      <td>0.159141</td>\n",
              "      <td>0.549957</td>\n",
              "      <td>0.23844</td>\n",
              "      <td>0.103448</td>\n",
              "      <td>0.325153</td>\n",
              "      <td>0.500000</td>\n",
              "      <td>0.464286</td>\n",
              "      <td>0.478049</td>\n",
              "      <td>0.309013</td>\n",
              "      <td>0.778947</td>\n",
              "      <td>...</td>\n",
              "      <td>0.847901</td>\n",
              "      <td>0.022011</td>\n",
              "      <td>0.033837</td>\n",
              "      <td>0.704615</td>\n",
              "      <td>0.538907</td>\n",
              "      <td>0.314790</td>\n",
              "      <td>0.647541</td>\n",
              "      <td>0.654040</td>\n",
              "      <td>0.698982</td>\n",
              "      <td>0</td>\n",
              "    </tr>\n",
              "    <tr>\n",
              "      <th>4</th>\n",
              "      <td>0.159141</td>\n",
              "      <td>0.550129</td>\n",
              "      <td>0.23844</td>\n",
              "      <td>0.103448</td>\n",
              "      <td>0.325153</td>\n",
              "      <td>0.515625</td>\n",
              "      <td>0.467532</td>\n",
              "      <td>0.482927</td>\n",
              "      <td>0.304721</td>\n",
              "      <td>0.786842</td>\n",
              "      <td>...</td>\n",
              "      <td>0.847901</td>\n",
              "      <td>0.022074</td>\n",
              "      <td>0.033753</td>\n",
              "      <td>0.704615</td>\n",
              "      <td>0.538907</td>\n",
              "      <td>0.314790</td>\n",
              "      <td>0.647029</td>\n",
              "      <td>0.652778</td>\n",
              "      <td>0.700921</td>\n",
              "      <td>0</td>\n",
              "    </tr>\n",
              "  </tbody>\n",
              "</table>\n",
              "<p>5 rows × 53 columns</p>\n",
              "</div>"
            ]
          },
          "metadata": {},
          "execution_count": 85
        }
      ],
      "metadata": {
        "id": "2qjhdLTUz9lh"
      }
    },
    {
      "cell_type": "markdown",
      "source": [
        "6). Choose an algorithm and carry out the predictive analysis.\n",
        "\n",
        "- Optimize the hyperparameter(s)\n",
        "- Calculate the accuracy.\n",
        "- Aim for upper 90% accuracy."
      ],
      "metadata": {
        "id": "wa_PK9C5z9lh"
      }
    },
    {
      "cell_type": "markdown",
      "source": [
        "# we are dealing with a multi-class classification"
      ],
      "metadata": {}
    },
    {
      "cell_type": "markdown",
      "source": [
        "we use the k-cross validation to compare our models"
      ],
      "metadata": {}
    },
    {
      "cell_type": "code",
      "execution_count": 86,
      "source": [
        "from sklearn import model_selection\r\n",
        "\r\n",
        "models = {\r\n",
        "\t'KNN': KNeighborsClassifier(),\r\n",
        "\t'Decision Tree': DecisionTreeClassifier(),\r\n",
        "\t'Random Forest': RandomForestClassifier(),\r\n",
        "\t'AdaBoost': AdaBoostClassifier(),\r\n",
        "\t#'Gradient Boosting': GradientBoostingClassifier(),\r\n",
        "\t# if you want to run gradient boosting, uncomment the above line and comment the below line\r\n",
        "\t# however, gradient boosting takes a lot of time to run\r\n",
        "\t# its results are not as good as the ones of the other models\r\n",
        "\t# accuracy = 0.964070 std = 0.003750\r\n",
        "\t'XGBoost': XGBClassifier(eval_metric=\"mlogloss\")\r\n",
        "\t\r\n",
        "}\r\n",
        "\r\n",
        "results = []\r\n",
        "\r\n",
        "for name in models:\r\n",
        "\tprint(\"%s Running...\" % name)\r\n",
        "\tkfold = model_selection.KFold(n_splits=5, random_state=0, shuffle=True)\r\n",
        "\tcv_results = model_selection.cross_val_score(models[name], df_data, df_target, cv=kfold, scoring='accuracy')\r\n",
        "\tresults.append(cv_results)\r\n",
        "\tprint(\"\\t mean_accuracy = %f\" % cv_results.mean())\r\n",
        "\tprint(\"\\t std = %f\" % cv_results.std())"
      ],
      "outputs": [
        {
          "output_type": "stream",
          "name": "stdout",
          "text": [
            "KNN Running...\n",
            "\t mean_accuracy = 0.961930\n",
            "\t std = 0.003864\n",
            "Decision Tree Running...\n",
            "\t mean_accuracy = 0.960860\n",
            "\t std = 0.003763\n",
            "Random Forest Running...\n",
            "\t mean_accuracy = 0.995515\n",
            "\t std = 0.001584\n",
            "AdaBoost Running...\n",
            "\t mean_accuracy = 0.715522\n",
            "\t std = 0.016787\n",
            "XGBoost Running...\n"
          ]
        }
      ],
      "metadata": {}
    },
    {
      "cell_type": "code",
      "execution_count": null,
      "source": [
        "names = list(models.keys())\r\n",
        "\r\n",
        "fig = plt.figure()\r\n",
        "fig.suptitle('Algorithm Comparison')\r\n",
        "ax = fig.add_subplot(111)\r\n",
        "plt.boxplot(results)\r\n",
        "ax.set_xticklabels(names)\r\n",
        "plt.show()"
      ],
      "outputs": [
        {
          "output_type": "display_data",
          "data": {
            "text/plain": [
              "<Figure size 432x288 with 1 Axes>"
            ],
            "image/svg+xml": "<?xml version=\"1.0\" encoding=\"utf-8\" standalone=\"no\"?>\r\n<!DOCTYPE svg PUBLIC \"-//W3C//DTD SVG 1.1//EN\"\r\n  \"http://www.w3.org/Graphics/SVG/1.1/DTD/svg11.dtd\">\r\n<!-- Created with matplotlib (https://matplotlib.org/) -->\r\n<svg height=\"277.318125pt\" version=\"1.1\" viewBox=\"0 0 378.465625 277.318125\" width=\"378.465625pt\" xmlns=\"http://www.w3.org/2000/svg\" xmlns:xlink=\"http://www.w3.org/1999/xlink\">\r\n <defs>\r\n  <style type=\"text/css\">\r\n*{stroke-linecap:butt;stroke-linejoin:round;}\r\n  </style>\r\n </defs>\r\n <g id=\"figure_1\">\r\n  <g id=\"patch_1\">\r\n   <path d=\"M 0 277.318125 \r\nL 378.465625 277.318125 \r\nL 378.465625 0 \r\nL 0 0 \r\nz\r\n\" style=\"fill:none;\"/>\r\n  </g>\r\n  <g id=\"axes_1\">\r\n   <g id=\"patch_2\">\r\n    <path d=\"M 36.465625 253.44 \r\nL 371.265625 253.44 \r\nL 371.265625 36 \r\nL 36.465625 36 \r\nz\r\n\" style=\"fill:#ffffff;\"/>\r\n   </g>\r\n   <g id=\"matplotlib.axis_1\">\r\n    <g id=\"xtick_1\">\r\n     <g id=\"line2d_1\">\r\n      <defs>\r\n       <path d=\"M 0 0 \r\nL 0 3.5 \r\n\" id=\"m6d51172c5e\" style=\"stroke:#000000;stroke-width:0.8;\"/>\r\n      </defs>\r\n      <g>\r\n       <use style=\"stroke:#000000;stroke-width:0.8;\" x=\"69.945625\" xlink:href=\"#m6d51172c5e\" y=\"253.44\"/>\r\n      </g>\r\n     </g>\r\n     <g id=\"text_1\">\r\n      <!-- KNN -->\r\n      <defs>\r\n       <path d=\"M 9.8125 72.90625 \r\nL 19.671875 72.90625 \r\nL 19.671875 42.09375 \r\nL 52.390625 72.90625 \r\nL 65.09375 72.90625 \r\nL 28.90625 38.921875 \r\nL 67.671875 0 \r\nL 54.6875 0 \r\nL 19.671875 35.109375 \r\nL 19.671875 0 \r\nL 9.8125 0 \r\nz\r\n\" id=\"DejaVuSans-75\"/>\r\n       <path d=\"M 9.8125 72.90625 \r\nL 23.09375 72.90625 \r\nL 55.421875 11.921875 \r\nL 55.421875 72.90625 \r\nL 64.984375 72.90625 \r\nL 64.984375 0 \r\nL 51.703125 0 \r\nL 19.390625 60.984375 \r\nL 19.390625 0 \r\nL 9.8125 0 \r\nz\r\n\" id=\"DejaVuSans-78\"/>\r\n      </defs>\r\n      <g transform=\"translate(59.185469 268.038437)scale(0.1 -0.1)\">\r\n       <use xlink:href=\"#DejaVuSans-75\"/>\r\n       <use x=\"65.576172\" xlink:href=\"#DejaVuSans-78\"/>\r\n       <use x=\"140.380859\" xlink:href=\"#DejaVuSans-78\"/>\r\n      </g>\r\n     </g>\r\n    </g>\r\n    <g id=\"xtick_2\">\r\n     <g id=\"line2d_2\">\r\n      <g>\r\n       <use style=\"stroke:#000000;stroke-width:0.8;\" x=\"136.905625\" xlink:href=\"#m6d51172c5e\" y=\"253.44\"/>\r\n      </g>\r\n     </g>\r\n     <g id=\"text_2\">\r\n      <!-- Decision Tree -->\r\n      <defs>\r\n       <path d=\"M 19.671875 64.796875 \r\nL 19.671875 8.109375 \r\nL 31.59375 8.109375 \r\nQ 46.6875 8.109375 53.6875 14.9375 \r\nQ 60.6875 21.78125 60.6875 36.53125 \r\nQ 60.6875 51.171875 53.6875 57.984375 \r\nQ 46.6875 64.796875 31.59375 64.796875 \r\nz\r\nM 9.8125 72.90625 \r\nL 30.078125 72.90625 \r\nQ 51.265625 72.90625 61.171875 64.09375 \r\nQ 71.09375 55.28125 71.09375 36.53125 \r\nQ 71.09375 17.671875 61.125 8.828125 \r\nQ 51.171875 0 30.078125 0 \r\nL 9.8125 0 \r\nz\r\n\" id=\"DejaVuSans-68\"/>\r\n       <path d=\"M 56.203125 29.59375 \r\nL 56.203125 25.203125 \r\nL 14.890625 25.203125 \r\nQ 15.484375 15.921875 20.484375 11.0625 \r\nQ 25.484375 6.203125 34.421875 6.203125 \r\nQ 39.59375 6.203125 44.453125 7.46875 \r\nQ 49.3125 8.734375 54.109375 11.28125 \r\nL 54.109375 2.78125 \r\nQ 49.265625 0.734375 44.1875 -0.34375 \r\nQ 39.109375 -1.421875 33.890625 -1.421875 \r\nQ 20.796875 -1.421875 13.15625 6.1875 \r\nQ 5.515625 13.8125 5.515625 26.8125 \r\nQ 5.515625 40.234375 12.765625 48.109375 \r\nQ 20.015625 56 32.328125 56 \r\nQ 43.359375 56 49.78125 48.890625 \r\nQ 56.203125 41.796875 56.203125 29.59375 \r\nz\r\nM 47.21875 32.234375 \r\nQ 47.125 39.59375 43.09375 43.984375 \r\nQ 39.0625 48.390625 32.421875 48.390625 \r\nQ 24.90625 48.390625 20.390625 44.140625 \r\nQ 15.875 39.890625 15.1875 32.171875 \r\nz\r\n\" id=\"DejaVuSans-101\"/>\r\n       <path d=\"M 48.78125 52.59375 \r\nL 48.78125 44.1875 \r\nQ 44.96875 46.296875 41.140625 47.34375 \r\nQ 37.3125 48.390625 33.40625 48.390625 \r\nQ 24.65625 48.390625 19.8125 42.84375 \r\nQ 14.984375 37.3125 14.984375 27.296875 \r\nQ 14.984375 17.28125 19.8125 11.734375 \r\nQ 24.65625 6.203125 33.40625 6.203125 \r\nQ 37.3125 6.203125 41.140625 7.25 \r\nQ 44.96875 8.296875 48.78125 10.40625 \r\nL 48.78125 2.09375 \r\nQ 45.015625 0.34375 40.984375 -0.53125 \r\nQ 36.96875 -1.421875 32.421875 -1.421875 \r\nQ 20.0625 -1.421875 12.78125 6.34375 \r\nQ 5.515625 14.109375 5.515625 27.296875 \r\nQ 5.515625 40.671875 12.859375 48.328125 \r\nQ 20.21875 56 33.015625 56 \r\nQ 37.15625 56 41.109375 55.140625 \r\nQ 45.0625 54.296875 48.78125 52.59375 \r\nz\r\n\" id=\"DejaVuSans-99\"/>\r\n       <path d=\"M 9.421875 54.6875 \r\nL 18.40625 54.6875 \r\nL 18.40625 0 \r\nL 9.421875 0 \r\nz\r\nM 9.421875 75.984375 \r\nL 18.40625 75.984375 \r\nL 18.40625 64.59375 \r\nL 9.421875 64.59375 \r\nz\r\n\" id=\"DejaVuSans-105\"/>\r\n       <path d=\"M 44.28125 53.078125 \r\nL 44.28125 44.578125 \r\nQ 40.484375 46.53125 36.375 47.5 \r\nQ 32.28125 48.484375 27.875 48.484375 \r\nQ 21.1875 48.484375 17.84375 46.4375 \r\nQ 14.5 44.390625 14.5 40.28125 \r\nQ 14.5 37.15625 16.890625 35.375 \r\nQ 19.28125 33.59375 26.515625 31.984375 \r\nL 29.59375 31.296875 \r\nQ 39.15625 29.25 43.1875 25.515625 \r\nQ 47.21875 21.78125 47.21875 15.09375 \r\nQ 47.21875 7.46875 41.1875 3.015625 \r\nQ 35.15625 -1.421875 24.609375 -1.421875 \r\nQ 20.21875 -1.421875 15.453125 -0.5625 \r\nQ 10.6875 0.296875 5.421875 2 \r\nL 5.421875 11.28125 \r\nQ 10.40625 8.6875 15.234375 7.390625 \r\nQ 20.0625 6.109375 24.8125 6.109375 \r\nQ 31.15625 6.109375 34.5625 8.28125 \r\nQ 37.984375 10.453125 37.984375 14.40625 \r\nQ 37.984375 18.0625 35.515625 20.015625 \r\nQ 33.0625 21.96875 24.703125 23.78125 \r\nL 21.578125 24.515625 \r\nQ 13.234375 26.265625 9.515625 29.90625 \r\nQ 5.8125 33.546875 5.8125 39.890625 \r\nQ 5.8125 47.609375 11.28125 51.796875 \r\nQ 16.75 56 26.8125 56 \r\nQ 31.78125 56 36.171875 55.265625 \r\nQ 40.578125 54.546875 44.28125 53.078125 \r\nz\r\n\" id=\"DejaVuSans-115\"/>\r\n       <path d=\"M 30.609375 48.390625 \r\nQ 23.390625 48.390625 19.1875 42.75 \r\nQ 14.984375 37.109375 14.984375 27.296875 \r\nQ 14.984375 17.484375 19.15625 11.84375 \r\nQ 23.34375 6.203125 30.609375 6.203125 \r\nQ 37.796875 6.203125 41.984375 11.859375 \r\nQ 46.1875 17.53125 46.1875 27.296875 \r\nQ 46.1875 37.015625 41.984375 42.703125 \r\nQ 37.796875 48.390625 30.609375 48.390625 \r\nz\r\nM 30.609375 56 \r\nQ 42.328125 56 49.015625 48.375 \r\nQ 55.71875 40.765625 55.71875 27.296875 \r\nQ 55.71875 13.875 49.015625 6.21875 \r\nQ 42.328125 -1.421875 30.609375 -1.421875 \r\nQ 18.84375 -1.421875 12.171875 6.21875 \r\nQ 5.515625 13.875 5.515625 27.296875 \r\nQ 5.515625 40.765625 12.171875 48.375 \r\nQ 18.84375 56 30.609375 56 \r\nz\r\n\" id=\"DejaVuSans-111\"/>\r\n       <path d=\"M 54.890625 33.015625 \r\nL 54.890625 0 \r\nL 45.90625 0 \r\nL 45.90625 32.71875 \r\nQ 45.90625 40.484375 42.875 44.328125 \r\nQ 39.84375 48.1875 33.796875 48.1875 \r\nQ 26.515625 48.1875 22.3125 43.546875 \r\nQ 18.109375 38.921875 18.109375 30.90625 \r\nL 18.109375 0 \r\nL 9.078125 0 \r\nL 9.078125 54.6875 \r\nL 18.109375 54.6875 \r\nL 18.109375 46.1875 \r\nQ 21.34375 51.125 25.703125 53.5625 \r\nQ 30.078125 56 35.796875 56 \r\nQ 45.21875 56 50.046875 50.171875 \r\nQ 54.890625 44.34375 54.890625 33.015625 \r\nz\r\n\" id=\"DejaVuSans-110\"/>\r\n       <path id=\"DejaVuSans-32\"/>\r\n       <path d=\"M -0.296875 72.90625 \r\nL 61.375 72.90625 \r\nL 61.375 64.59375 \r\nL 35.5 64.59375 \r\nL 35.5 0 \r\nL 25.59375 0 \r\nL 25.59375 64.59375 \r\nL -0.296875 64.59375 \r\nz\r\n\" id=\"DejaVuSans-84\"/>\r\n       <path d=\"M 41.109375 46.296875 \r\nQ 39.59375 47.171875 37.8125 47.578125 \r\nQ 36.03125 48 33.890625 48 \r\nQ 26.265625 48 22.1875 43.046875 \r\nQ 18.109375 38.09375 18.109375 28.8125 \r\nL 18.109375 0 \r\nL 9.078125 0 \r\nL 9.078125 54.6875 \r\nL 18.109375 54.6875 \r\nL 18.109375 46.1875 \r\nQ 20.953125 51.171875 25.484375 53.578125 \r\nQ 30.03125 56 36.53125 56 \r\nQ 37.453125 56 38.578125 55.875 \r\nQ 39.703125 55.765625 41.0625 55.515625 \r\nz\r\n\" id=\"DejaVuSans-114\"/>\r\n      </defs>\r\n      <g transform=\"translate(102.779844 268.038437)scale(0.1 -0.1)\">\r\n       <use xlink:href=\"#DejaVuSans-68\"/>\r\n       <use x=\"77.001953\" xlink:href=\"#DejaVuSans-101\"/>\r\n       <use x=\"138.525391\" xlink:href=\"#DejaVuSans-99\"/>\r\n       <use x=\"193.505859\" xlink:href=\"#DejaVuSans-105\"/>\r\n       <use x=\"221.289062\" xlink:href=\"#DejaVuSans-115\"/>\r\n       <use x=\"273.388672\" xlink:href=\"#DejaVuSans-105\"/>\r\n       <use x=\"301.171875\" xlink:href=\"#DejaVuSans-111\"/>\r\n       <use x=\"362.353516\" xlink:href=\"#DejaVuSans-110\"/>\r\n       <use x=\"425.732422\" xlink:href=\"#DejaVuSans-32\"/>\r\n       <use x=\"457.519531\" xlink:href=\"#DejaVuSans-84\"/>\r\n       <use x=\"518.384766\" xlink:href=\"#DejaVuSans-114\"/>\r\n       <use x=\"559.466797\" xlink:href=\"#DejaVuSans-101\"/>\r\n       <use x=\"620.990234\" xlink:href=\"#DejaVuSans-101\"/>\r\n      </g>\r\n     </g>\r\n    </g>\r\n    <g id=\"xtick_3\">\r\n     <g id=\"line2d_3\">\r\n      <g>\r\n       <use style=\"stroke:#000000;stroke-width:0.8;\" x=\"203.865625\" xlink:href=\"#m6d51172c5e\" y=\"253.44\"/>\r\n      </g>\r\n     </g>\r\n     <g id=\"text_3\">\r\n      <!-- Random Forest -->\r\n      <defs>\r\n       <path d=\"M 44.390625 34.1875 \r\nQ 47.5625 33.109375 50.5625 29.59375 \r\nQ 53.5625 26.078125 56.59375 19.921875 \r\nL 66.609375 0 \r\nL 56 0 \r\nL 46.6875 18.703125 \r\nQ 43.0625 26.03125 39.671875 28.421875 \r\nQ 36.28125 30.8125 30.421875 30.8125 \r\nL 19.671875 30.8125 \r\nL 19.671875 0 \r\nL 9.8125 0 \r\nL 9.8125 72.90625 \r\nL 32.078125 72.90625 \r\nQ 44.578125 72.90625 50.734375 67.671875 \r\nQ 56.890625 62.453125 56.890625 51.90625 \r\nQ 56.890625 45.015625 53.6875 40.46875 \r\nQ 50.484375 35.9375 44.390625 34.1875 \r\nz\r\nM 19.671875 64.796875 \r\nL 19.671875 38.921875 \r\nL 32.078125 38.921875 \r\nQ 39.203125 38.921875 42.84375 42.21875 \r\nQ 46.484375 45.515625 46.484375 51.90625 \r\nQ 46.484375 58.296875 42.84375 61.546875 \r\nQ 39.203125 64.796875 32.078125 64.796875 \r\nz\r\n\" id=\"DejaVuSans-82\"/>\r\n       <path d=\"M 34.28125 27.484375 \r\nQ 23.390625 27.484375 19.1875 25 \r\nQ 14.984375 22.515625 14.984375 16.5 \r\nQ 14.984375 11.71875 18.140625 8.90625 \r\nQ 21.296875 6.109375 26.703125 6.109375 \r\nQ 34.1875 6.109375 38.703125 11.40625 \r\nQ 43.21875 16.703125 43.21875 25.484375 \r\nL 43.21875 27.484375 \r\nz\r\nM 52.203125 31.203125 \r\nL 52.203125 0 \r\nL 43.21875 0 \r\nL 43.21875 8.296875 \r\nQ 40.140625 3.328125 35.546875 0.953125 \r\nQ 30.953125 -1.421875 24.3125 -1.421875 \r\nQ 15.921875 -1.421875 10.953125 3.296875 \r\nQ 6 8.015625 6 15.921875 \r\nQ 6 25.140625 12.171875 29.828125 \r\nQ 18.359375 34.515625 30.609375 34.515625 \r\nL 43.21875 34.515625 \r\nL 43.21875 35.40625 \r\nQ 43.21875 41.609375 39.140625 45 \r\nQ 35.0625 48.390625 27.6875 48.390625 \r\nQ 23 48.390625 18.546875 47.265625 \r\nQ 14.109375 46.140625 10.015625 43.890625 \r\nL 10.015625 52.203125 \r\nQ 14.9375 54.109375 19.578125 55.046875 \r\nQ 24.21875 56 28.609375 56 \r\nQ 40.484375 56 46.34375 49.84375 \r\nQ 52.203125 43.703125 52.203125 31.203125 \r\nz\r\n\" id=\"DejaVuSans-97\"/>\r\n       <path d=\"M 45.40625 46.390625 \r\nL 45.40625 75.984375 \r\nL 54.390625 75.984375 \r\nL 54.390625 0 \r\nL 45.40625 0 \r\nL 45.40625 8.203125 \r\nQ 42.578125 3.328125 38.25 0.953125 \r\nQ 33.9375 -1.421875 27.875 -1.421875 \r\nQ 17.96875 -1.421875 11.734375 6.484375 \r\nQ 5.515625 14.40625 5.515625 27.296875 \r\nQ 5.515625 40.1875 11.734375 48.09375 \r\nQ 17.96875 56 27.875 56 \r\nQ 33.9375 56 38.25 53.625 \r\nQ 42.578125 51.265625 45.40625 46.390625 \r\nz\r\nM 14.796875 27.296875 \r\nQ 14.796875 17.390625 18.875 11.75 \r\nQ 22.953125 6.109375 30.078125 6.109375 \r\nQ 37.203125 6.109375 41.296875 11.75 \r\nQ 45.40625 17.390625 45.40625 27.296875 \r\nQ 45.40625 37.203125 41.296875 42.84375 \r\nQ 37.203125 48.484375 30.078125 48.484375 \r\nQ 22.953125 48.484375 18.875 42.84375 \r\nQ 14.796875 37.203125 14.796875 27.296875 \r\nz\r\n\" id=\"DejaVuSans-100\"/>\r\n       <path d=\"M 52 44.1875 \r\nQ 55.375 50.25 60.0625 53.125 \r\nQ 64.75 56 71.09375 56 \r\nQ 79.640625 56 84.28125 50.015625 \r\nQ 88.921875 44.046875 88.921875 33.015625 \r\nL 88.921875 0 \r\nL 79.890625 0 \r\nL 79.890625 32.71875 \r\nQ 79.890625 40.578125 77.09375 44.375 \r\nQ 74.3125 48.1875 68.609375 48.1875 \r\nQ 61.625 48.1875 57.5625 43.546875 \r\nQ 53.515625 38.921875 53.515625 30.90625 \r\nL 53.515625 0 \r\nL 44.484375 0 \r\nL 44.484375 32.71875 \r\nQ 44.484375 40.625 41.703125 44.40625 \r\nQ 38.921875 48.1875 33.109375 48.1875 \r\nQ 26.21875 48.1875 22.15625 43.53125 \r\nQ 18.109375 38.875 18.109375 30.90625 \r\nL 18.109375 0 \r\nL 9.078125 0 \r\nL 9.078125 54.6875 \r\nL 18.109375 54.6875 \r\nL 18.109375 46.1875 \r\nQ 21.1875 51.21875 25.484375 53.609375 \r\nQ 29.78125 56 35.6875 56 \r\nQ 41.65625 56 45.828125 52.96875 \r\nQ 50 49.953125 52 44.1875 \r\nz\r\n\" id=\"DejaVuSans-109\"/>\r\n       <path d=\"M 9.8125 72.90625 \r\nL 51.703125 72.90625 \r\nL 51.703125 64.59375 \r\nL 19.671875 64.59375 \r\nL 19.671875 43.109375 \r\nL 48.578125 43.109375 \r\nL 48.578125 34.8125 \r\nL 19.671875 34.8125 \r\nL 19.671875 0 \r\nL 9.8125 0 \r\nz\r\n\" id=\"DejaVuSans-70\"/>\r\n       <path d=\"M 18.3125 70.21875 \r\nL 18.3125 54.6875 \r\nL 36.8125 54.6875 \r\nL 36.8125 47.703125 \r\nL 18.3125 47.703125 \r\nL 18.3125 18.015625 \r\nQ 18.3125 11.328125 20.140625 9.421875 \r\nQ 21.96875 7.515625 27.59375 7.515625 \r\nL 36.8125 7.515625 \r\nL 36.8125 0 \r\nL 27.59375 0 \r\nQ 17.1875 0 13.234375 3.875 \r\nQ 9.28125 7.765625 9.28125 18.015625 \r\nL 9.28125 47.703125 \r\nL 2.6875 47.703125 \r\nL 2.6875 54.6875 \r\nL 9.28125 54.6875 \r\nL 9.28125 70.21875 \r\nz\r\n\" id=\"DejaVuSans-116\"/>\r\n      </defs>\r\n      <g transform=\"translate(165.839063 268.038437)scale(0.1 -0.1)\">\r\n       <use xlink:href=\"#DejaVuSans-82\"/>\r\n       <use x=\"69.451172\" xlink:href=\"#DejaVuSans-97\"/>\r\n       <use x=\"130.730469\" xlink:href=\"#DejaVuSans-110\"/>\r\n       <use x=\"194.109375\" xlink:href=\"#DejaVuSans-100\"/>\r\n       <use x=\"257.585938\" xlink:href=\"#DejaVuSans-111\"/>\r\n       <use x=\"318.767578\" xlink:href=\"#DejaVuSans-109\"/>\r\n       <use x=\"416.179688\" xlink:href=\"#DejaVuSans-32\"/>\r\n       <use x=\"447.966797\" xlink:href=\"#DejaVuSans-70\"/>\r\n       <use x=\"505.439453\" xlink:href=\"#DejaVuSans-111\"/>\r\n       <use x=\"566.621094\" xlink:href=\"#DejaVuSans-114\"/>\r\n       <use x=\"607.703125\" xlink:href=\"#DejaVuSans-101\"/>\r\n       <use x=\"669.226562\" xlink:href=\"#DejaVuSans-115\"/>\r\n       <use x=\"721.326172\" xlink:href=\"#DejaVuSans-116\"/>\r\n      </g>\r\n     </g>\r\n    </g>\r\n    <g id=\"xtick_4\">\r\n     <g id=\"line2d_4\">\r\n      <g>\r\n       <use style=\"stroke:#000000;stroke-width:0.8;\" x=\"270.825625\" xlink:href=\"#m6d51172c5e\" y=\"253.44\"/>\r\n      </g>\r\n     </g>\r\n     <g id=\"text_4\">\r\n      <!-- AdaBoost -->\r\n      <defs>\r\n       <path d=\"M 34.1875 63.1875 \r\nL 20.796875 26.90625 \r\nL 47.609375 26.90625 \r\nz\r\nM 28.609375 72.90625 \r\nL 39.796875 72.90625 \r\nL 67.578125 0 \r\nL 57.328125 0 \r\nL 50.6875 18.703125 \r\nL 17.828125 18.703125 \r\nL 11.1875 0 \r\nL 0.78125 0 \r\nz\r\n\" id=\"DejaVuSans-65\"/>\r\n       <path d=\"M 19.671875 34.8125 \r\nL 19.671875 8.109375 \r\nL 35.5 8.109375 \r\nQ 43.453125 8.109375 47.28125 11.40625 \r\nQ 51.125 14.703125 51.125 21.484375 \r\nQ 51.125 28.328125 47.28125 31.5625 \r\nQ 43.453125 34.8125 35.5 34.8125 \r\nz\r\nM 19.671875 64.796875 \r\nL 19.671875 42.828125 \r\nL 34.28125 42.828125 \r\nQ 41.5 42.828125 45.03125 45.53125 \r\nQ 48.578125 48.25 48.578125 53.8125 \r\nQ 48.578125 59.328125 45.03125 62.0625 \r\nQ 41.5 64.796875 34.28125 64.796875 \r\nz\r\nM 9.8125 72.90625 \r\nL 35.015625 72.90625 \r\nQ 46.296875 72.90625 52.390625 68.21875 \r\nQ 58.5 63.53125 58.5 54.890625 \r\nQ 58.5 48.1875 55.375 44.234375 \r\nQ 52.25 40.28125 46.1875 39.3125 \r\nQ 53.46875 37.75 57.5 32.78125 \r\nQ 61.53125 27.828125 61.53125 20.40625 \r\nQ 61.53125 10.640625 54.890625 5.3125 \r\nQ 48.25 0 35.984375 0 \r\nL 9.8125 0 \r\nz\r\n\" id=\"DejaVuSans-66\"/>\r\n      </defs>\r\n      <g transform=\"translate(247.05375 268.038437)scale(0.1 -0.1)\">\r\n       <use xlink:href=\"#DejaVuSans-65\"/>\r\n       <use x=\"68.392578\" xlink:href=\"#DejaVuSans-100\"/>\r\n       <use x=\"131.869141\" xlink:href=\"#DejaVuSans-97\"/>\r\n       <use x=\"193.148438\" xlink:href=\"#DejaVuSans-66\"/>\r\n       <use x=\"261.751953\" xlink:href=\"#DejaVuSans-111\"/>\r\n       <use x=\"322.933594\" xlink:href=\"#DejaVuSans-111\"/>\r\n       <use x=\"384.115234\" xlink:href=\"#DejaVuSans-115\"/>\r\n       <use x=\"436.214844\" xlink:href=\"#DejaVuSans-116\"/>\r\n      </g>\r\n     </g>\r\n    </g>\r\n    <g id=\"xtick_5\">\r\n     <g id=\"line2d_5\">\r\n      <g>\r\n       <use style=\"stroke:#000000;stroke-width:0.8;\" x=\"337.785625\" xlink:href=\"#m6d51172c5e\" y=\"253.44\"/>\r\n      </g>\r\n     </g>\r\n     <g id=\"text_5\">\r\n      <!-- XGBoost -->\r\n      <defs>\r\n       <path d=\"M 6.296875 72.90625 \r\nL 16.890625 72.90625 \r\nL 35.015625 45.796875 \r\nL 53.21875 72.90625 \r\nL 63.8125 72.90625 \r\nL 40.375 37.890625 \r\nL 65.375 0 \r\nL 54.78125 0 \r\nL 34.28125 31 \r\nL 13.625 0 \r\nL 2.984375 0 \r\nL 29 38.921875 \r\nz\r\n\" id=\"DejaVuSans-88\"/>\r\n       <path d=\"M 59.515625 10.40625 \r\nL 59.515625 29.984375 \r\nL 43.40625 29.984375 \r\nL 43.40625 38.09375 \r\nL 69.28125 38.09375 \r\nL 69.28125 6.78125 \r\nQ 63.578125 2.734375 56.6875 0.65625 \r\nQ 49.8125 -1.421875 42 -1.421875 \r\nQ 24.90625 -1.421875 15.25 8.5625 \r\nQ 5.609375 18.5625 5.609375 36.375 \r\nQ 5.609375 54.25 15.25 64.234375 \r\nQ 24.90625 74.21875 42 74.21875 \r\nQ 49.125 74.21875 55.546875 72.453125 \r\nQ 61.96875 70.703125 67.390625 67.28125 \r\nL 67.390625 56.78125 \r\nQ 61.921875 61.421875 55.765625 63.765625 \r\nQ 49.609375 66.109375 42.828125 66.109375 \r\nQ 29.4375 66.109375 22.71875 58.640625 \r\nQ 16.015625 51.171875 16.015625 36.375 \r\nQ 16.015625 21.625 22.71875 14.15625 \r\nQ 29.4375 6.6875 42.828125 6.6875 \r\nQ 48.046875 6.6875 52.140625 7.59375 \r\nQ 56.25 8.5 59.515625 10.40625 \r\nz\r\n\" id=\"DejaVuSans-71\"/>\r\n      </defs>\r\n      <g transform=\"translate(316.372344 268.038437)scale(0.1 -0.1)\">\r\n       <use xlink:href=\"#DejaVuSans-88\"/>\r\n       <use x=\"68.505859\" xlink:href=\"#DejaVuSans-71\"/>\r\n       <use x=\"145.996094\" xlink:href=\"#DejaVuSans-66\"/>\r\n       <use x=\"214.599609\" xlink:href=\"#DejaVuSans-111\"/>\r\n       <use x=\"275.78125\" xlink:href=\"#DejaVuSans-111\"/>\r\n       <use x=\"336.962891\" xlink:href=\"#DejaVuSans-115\"/>\r\n       <use x=\"389.0625\" xlink:href=\"#DejaVuSans-116\"/>\r\n      </g>\r\n     </g>\r\n    </g>\r\n   </g>\r\n   <g id=\"matplotlib.axis_2\">\r\n    <g id=\"ytick_1\">\r\n     <g id=\"line2d_6\">\r\n      <defs>\r\n       <path d=\"M 0 0 \r\nL -3.5 0 \r\n\" id=\"m7515d5f56b\" style=\"stroke:#000000;stroke-width:0.8;\"/>\r\n      </defs>\r\n      <g>\r\n       <use style=\"stroke:#000000;stroke-width:0.8;\" x=\"36.465625\" xlink:href=\"#m7515d5f56b\" y=\"236.098873\"/>\r\n      </g>\r\n     </g>\r\n     <g id=\"text_6\">\r\n      <!-- 0.70 -->\r\n      <defs>\r\n       <path d=\"M 31.78125 66.40625 \r\nQ 24.171875 66.40625 20.328125 58.90625 \r\nQ 16.5 51.421875 16.5 36.375 \r\nQ 16.5 21.390625 20.328125 13.890625 \r\nQ 24.171875 6.390625 31.78125 6.390625 \r\nQ 39.453125 6.390625 43.28125 13.890625 \r\nQ 47.125 21.390625 47.125 36.375 \r\nQ 47.125 51.421875 43.28125 58.90625 \r\nQ 39.453125 66.40625 31.78125 66.40625 \r\nz\r\nM 31.78125 74.21875 \r\nQ 44.046875 74.21875 50.515625 64.515625 \r\nQ 56.984375 54.828125 56.984375 36.375 \r\nQ 56.984375 17.96875 50.515625 8.265625 \r\nQ 44.046875 -1.421875 31.78125 -1.421875 \r\nQ 19.53125 -1.421875 13.0625 8.265625 \r\nQ 6.59375 17.96875 6.59375 36.375 \r\nQ 6.59375 54.828125 13.0625 64.515625 \r\nQ 19.53125 74.21875 31.78125 74.21875 \r\nz\r\n\" id=\"DejaVuSans-48\"/>\r\n       <path d=\"M 10.6875 12.40625 \r\nL 21 12.40625 \r\nL 21 0 \r\nL 10.6875 0 \r\nz\r\n\" id=\"DejaVuSans-46\"/>\r\n       <path d=\"M 8.203125 72.90625 \r\nL 55.078125 72.90625 \r\nL 55.078125 68.703125 \r\nL 28.609375 0 \r\nL 18.3125 0 \r\nL 43.21875 64.59375 \r\nL 8.203125 64.59375 \r\nz\r\n\" id=\"DejaVuSans-55\"/>\r\n      </defs>\r\n      <g transform=\"translate(7.2 239.898092)scale(0.1 -0.1)\">\r\n       <use xlink:href=\"#DejaVuSans-48\"/>\r\n       <use x=\"63.623047\" xlink:href=\"#DejaVuSans-46\"/>\r\n       <use x=\"95.410156\" xlink:href=\"#DejaVuSans-55\"/>\r\n       <use x=\"159.033203\" xlink:href=\"#DejaVuSans-48\"/>\r\n      </g>\r\n     </g>\r\n    </g>\r\n    <g id=\"ytick_2\">\r\n     <g id=\"line2d_7\">\r\n      <g>\r\n       <use style=\"stroke:#000000;stroke-width:0.8;\" x=\"36.465625\" xlink:href=\"#m7515d5f56b\" y=\"204.152155\"/>\r\n      </g>\r\n     </g>\r\n     <g id=\"text_7\">\r\n      <!-- 0.75 -->\r\n      <defs>\r\n       <path d=\"M 10.796875 72.90625 \r\nL 49.515625 72.90625 \r\nL 49.515625 64.59375 \r\nL 19.828125 64.59375 \r\nL 19.828125 46.734375 \r\nQ 21.96875 47.46875 24.109375 47.828125 \r\nQ 26.265625 48.1875 28.421875 48.1875 \r\nQ 40.625 48.1875 47.75 41.5 \r\nQ 54.890625 34.8125 54.890625 23.390625 \r\nQ 54.890625 11.625 47.5625 5.09375 \r\nQ 40.234375 -1.421875 26.90625 -1.421875 \r\nQ 22.3125 -1.421875 17.546875 -0.640625 \r\nQ 12.796875 0.140625 7.71875 1.703125 \r\nL 7.71875 11.625 \r\nQ 12.109375 9.234375 16.796875 8.0625 \r\nQ 21.484375 6.890625 26.703125 6.890625 \r\nQ 35.15625 6.890625 40.078125 11.328125 \r\nQ 45.015625 15.765625 45.015625 23.390625 \r\nQ 45.015625 31 40.078125 35.4375 \r\nQ 35.15625 39.890625 26.703125 39.890625 \r\nQ 22.75 39.890625 18.8125 39.015625 \r\nQ 14.890625 38.140625 10.796875 36.28125 \r\nz\r\n\" id=\"DejaVuSans-53\"/>\r\n      </defs>\r\n      <g transform=\"translate(7.2 207.951373)scale(0.1 -0.1)\">\r\n       <use xlink:href=\"#DejaVuSans-48\"/>\r\n       <use x=\"63.623047\" xlink:href=\"#DejaVuSans-46\"/>\r\n       <use x=\"95.410156\" xlink:href=\"#DejaVuSans-55\"/>\r\n       <use x=\"159.033203\" xlink:href=\"#DejaVuSans-53\"/>\r\n      </g>\r\n     </g>\r\n    </g>\r\n    <g id=\"ytick_3\">\r\n     <g id=\"line2d_8\">\r\n      <g>\r\n       <use style=\"stroke:#000000;stroke-width:0.8;\" x=\"36.465625\" xlink:href=\"#m7515d5f56b\" y=\"172.205437\"/>\r\n      </g>\r\n     </g>\r\n     <g id=\"text_8\">\r\n      <!-- 0.80 -->\r\n      <defs>\r\n       <path d=\"M 31.78125 34.625 \r\nQ 24.75 34.625 20.71875 30.859375 \r\nQ 16.703125 27.09375 16.703125 20.515625 \r\nQ 16.703125 13.921875 20.71875 10.15625 \r\nQ 24.75 6.390625 31.78125 6.390625 \r\nQ 38.8125 6.390625 42.859375 10.171875 \r\nQ 46.921875 13.96875 46.921875 20.515625 \r\nQ 46.921875 27.09375 42.890625 30.859375 \r\nQ 38.875 34.625 31.78125 34.625 \r\nz\r\nM 21.921875 38.8125 \r\nQ 15.578125 40.375 12.03125 44.71875 \r\nQ 8.5 49.078125 8.5 55.328125 \r\nQ 8.5 64.0625 14.71875 69.140625 \r\nQ 20.953125 74.21875 31.78125 74.21875 \r\nQ 42.671875 74.21875 48.875 69.140625 \r\nQ 55.078125 64.0625 55.078125 55.328125 \r\nQ 55.078125 49.078125 51.53125 44.71875 \r\nQ 48 40.375 41.703125 38.8125 \r\nQ 48.828125 37.15625 52.796875 32.3125 \r\nQ 56.78125 27.484375 56.78125 20.515625 \r\nQ 56.78125 9.90625 50.3125 4.234375 \r\nQ 43.84375 -1.421875 31.78125 -1.421875 \r\nQ 19.734375 -1.421875 13.25 4.234375 \r\nQ 6.78125 9.90625 6.78125 20.515625 \r\nQ 6.78125 27.484375 10.78125 32.3125 \r\nQ 14.796875 37.15625 21.921875 38.8125 \r\nz\r\nM 18.3125 54.390625 \r\nQ 18.3125 48.734375 21.84375 45.5625 \r\nQ 25.390625 42.390625 31.78125 42.390625 \r\nQ 38.140625 42.390625 41.71875 45.5625 \r\nQ 45.3125 48.734375 45.3125 54.390625 \r\nQ 45.3125 60.0625 41.71875 63.234375 \r\nQ 38.140625 66.40625 31.78125 66.40625 \r\nQ 25.390625 66.40625 21.84375 63.234375 \r\nQ 18.3125 60.0625 18.3125 54.390625 \r\nz\r\n\" id=\"DejaVuSans-56\"/>\r\n      </defs>\r\n      <g transform=\"translate(7.2 176.004655)scale(0.1 -0.1)\">\r\n       <use xlink:href=\"#DejaVuSans-48\"/>\r\n       <use x=\"63.623047\" xlink:href=\"#DejaVuSans-46\"/>\r\n       <use x=\"95.410156\" xlink:href=\"#DejaVuSans-56\"/>\r\n       <use x=\"159.033203\" xlink:href=\"#DejaVuSans-48\"/>\r\n      </g>\r\n     </g>\r\n    </g>\r\n    <g id=\"ytick_4\">\r\n     <g id=\"line2d_9\">\r\n      <g>\r\n       <use style=\"stroke:#000000;stroke-width:0.8;\" x=\"36.465625\" xlink:href=\"#m7515d5f56b\" y=\"140.258718\"/>\r\n      </g>\r\n     </g>\r\n     <g id=\"text_9\">\r\n      <!-- 0.85 -->\r\n      <g transform=\"translate(7.2 144.057937)scale(0.1 -0.1)\">\r\n       <use xlink:href=\"#DejaVuSans-48\"/>\r\n       <use x=\"63.623047\" xlink:href=\"#DejaVuSans-46\"/>\r\n       <use x=\"95.410156\" xlink:href=\"#DejaVuSans-56\"/>\r\n       <use x=\"159.033203\" xlink:href=\"#DejaVuSans-53\"/>\r\n      </g>\r\n     </g>\r\n    </g>\r\n    <g id=\"ytick_5\">\r\n     <g id=\"line2d_10\">\r\n      <g>\r\n       <use style=\"stroke:#000000;stroke-width:0.8;\" x=\"36.465625\" xlink:href=\"#m7515d5f56b\" y=\"108.312\"/>\r\n      </g>\r\n     </g>\r\n     <g id=\"text_10\">\r\n      <!-- 0.90 -->\r\n      <defs>\r\n       <path d=\"M 10.984375 1.515625 \r\nL 10.984375 10.5 \r\nQ 14.703125 8.734375 18.5 7.8125 \r\nQ 22.3125 6.890625 25.984375 6.890625 \r\nQ 35.75 6.890625 40.890625 13.453125 \r\nQ 46.046875 20.015625 46.78125 33.40625 \r\nQ 43.953125 29.203125 39.59375 26.953125 \r\nQ 35.25 24.703125 29.984375 24.703125 \r\nQ 19.046875 24.703125 12.671875 31.3125 \r\nQ 6.296875 37.9375 6.296875 49.421875 \r\nQ 6.296875 60.640625 12.9375 67.421875 \r\nQ 19.578125 74.21875 30.609375 74.21875 \r\nQ 43.265625 74.21875 49.921875 64.515625 \r\nQ 56.59375 54.828125 56.59375 36.375 \r\nQ 56.59375 19.140625 48.40625 8.859375 \r\nQ 40.234375 -1.421875 26.421875 -1.421875 \r\nQ 22.703125 -1.421875 18.890625 -0.6875 \r\nQ 15.09375 0.046875 10.984375 1.515625 \r\nz\r\nM 30.609375 32.421875 \r\nQ 37.25 32.421875 41.125 36.953125 \r\nQ 45.015625 41.5 45.015625 49.421875 \r\nQ 45.015625 57.28125 41.125 61.84375 \r\nQ 37.25 66.40625 30.609375 66.40625 \r\nQ 23.96875 66.40625 20.09375 61.84375 \r\nQ 16.21875 57.28125 16.21875 49.421875 \r\nQ 16.21875 41.5 20.09375 36.953125 \r\nQ 23.96875 32.421875 30.609375 32.421875 \r\nz\r\n\" id=\"DejaVuSans-57\"/>\r\n      </defs>\r\n      <g transform=\"translate(7.2 112.111219)scale(0.1 -0.1)\">\r\n       <use xlink:href=\"#DejaVuSans-48\"/>\r\n       <use x=\"63.623047\" xlink:href=\"#DejaVuSans-46\"/>\r\n       <use x=\"95.410156\" xlink:href=\"#DejaVuSans-57\"/>\r\n       <use x=\"159.033203\" xlink:href=\"#DejaVuSans-48\"/>\r\n      </g>\r\n     </g>\r\n    </g>\r\n    <g id=\"ytick_6\">\r\n     <g id=\"line2d_11\">\r\n      <g>\r\n       <use style=\"stroke:#000000;stroke-width:0.8;\" x=\"36.465625\" xlink:href=\"#m7515d5f56b\" y=\"76.365282\"/>\r\n      </g>\r\n     </g>\r\n     <g id=\"text_11\">\r\n      <!-- 0.95 -->\r\n      <g transform=\"translate(7.2 80.164501)scale(0.1 -0.1)\">\r\n       <use xlink:href=\"#DejaVuSans-48\"/>\r\n       <use x=\"63.623047\" xlink:href=\"#DejaVuSans-46\"/>\r\n       <use x=\"95.410156\" xlink:href=\"#DejaVuSans-57\"/>\r\n       <use x=\"159.033203\" xlink:href=\"#DejaVuSans-53\"/>\r\n      </g>\r\n     </g>\r\n    </g>\r\n    <g id=\"ytick_7\">\r\n     <g id=\"line2d_12\">\r\n      <g>\r\n       <use style=\"stroke:#000000;stroke-width:0.8;\" x=\"36.465625\" xlink:href=\"#m7515d5f56b\" y=\"44.418564\"/>\r\n      </g>\r\n     </g>\r\n     <g id=\"text_12\">\r\n      <!-- 1.00 -->\r\n      <defs>\r\n       <path d=\"M 12.40625 8.296875 \r\nL 28.515625 8.296875 \r\nL 28.515625 63.921875 \r\nL 10.984375 60.40625 \r\nL 10.984375 69.390625 \r\nL 28.421875 72.90625 \r\nL 38.28125 72.90625 \r\nL 38.28125 8.296875 \r\nL 54.390625 8.296875 \r\nL 54.390625 0 \r\nL 12.40625 0 \r\nz\r\n\" id=\"DejaVuSans-49\"/>\r\n      </defs>\r\n      <g transform=\"translate(7.2 48.217783)scale(0.1 -0.1)\">\r\n       <use xlink:href=\"#DejaVuSans-49\"/>\r\n       <use x=\"63.623047\" xlink:href=\"#DejaVuSans-46\"/>\r\n       <use x=\"95.410156\" xlink:href=\"#DejaVuSans-48\"/>\r\n       <use x=\"159.033203\" xlink:href=\"#DejaVuSans-48\"/>\r\n      </g>\r\n     </g>\r\n    </g>\r\n   </g>\r\n   <g id=\"line2d_13\">\r\n    <path clip-path=\"url(#pc0cd4a9d3e)\" d=\"M 53.205625 69.813153 \r\nL 86.685625 69.813153 \r\nL 86.685625 66.39465 \r\nL 53.205625 66.39465 \r\nL 53.205625 69.813153 \r\n\" style=\"fill:none;stroke:#000000;stroke-linecap:square;\"/>\r\n   </g>\r\n   <g id=\"line2d_14\">\r\n    <path clip-path=\"url(#pc0cd4a9d3e)\" d=\"M 69.945625 69.813153 \r\nL 69.945625 72.913343 \r\n\" style=\"fill:none;stroke:#000000;stroke-linecap:square;\"/>\r\n   </g>\r\n   <g id=\"line2d_15\">\r\n    <path clip-path=\"url(#pc0cd4a9d3e)\" d=\"M 69.945625 66.39465 \r\nL 69.945625 66.237423 \r\n\" style=\"fill:none;stroke:#000000;stroke-linecap:square;\"/>\r\n   </g>\r\n   <g id=\"line2d_16\">\r\n    <path clip-path=\"url(#pc0cd4a9d3e)\" d=\"M 61.575625 72.913343 \r\nL 78.315625 72.913343 \r\n\" style=\"fill:none;stroke:#000000;stroke-linecap:square;\"/>\r\n   </g>\r\n   <g id=\"line2d_17\">\r\n    <path clip-path=\"url(#pc0cd4a9d3e)\" d=\"M 61.575625 66.237423 \r\nL 78.315625 66.237423 \r\n\" style=\"fill:none;stroke:#000000;stroke-linecap:square;\"/>\r\n   </g>\r\n   <g id=\"line2d_18\"/>\r\n   <g id=\"line2d_19\">\r\n    <path clip-path=\"url(#pc0cd4a9d3e)\" d=\"M 120.165625 70.952653 \r\nL 153.645625 70.952653 \r\nL 153.645625 67.377215 \r\nL 120.165625 67.377215 \r\nL 120.165625 70.952653 \r\n\" style=\"fill:none;stroke:#000000;stroke-linecap:square;\"/>\r\n   </g>\r\n   <g id=\"line2d_20\">\r\n    <path clip-path=\"url(#pc0cd4a9d3e)\" d=\"M 136.905625 70.952653 \r\nL 136.905625 73.07617 \r\n\" style=\"fill:none;stroke:#000000;stroke-linecap:square;\"/>\r\n   </g>\r\n   <g id=\"line2d_21\">\r\n    <path clip-path=\"url(#pc0cd4a9d3e)\" d=\"M 136.905625 67.377215 \r\nL 136.905625 65.743507 \r\n\" style=\"fill:none;stroke:#000000;stroke-linecap:square;\"/>\r\n   </g>\r\n   <g id=\"line2d_22\">\r\n    <path clip-path=\"url(#pc0cd4a9d3e)\" d=\"M 128.535625 73.07617 \r\nL 145.275625 73.07617 \r\n\" style=\"fill:none;stroke:#000000;stroke-linecap:square;\"/>\r\n   </g>\r\n   <g id=\"line2d_23\">\r\n    <path clip-path=\"url(#pc0cd4a9d3e)\" d=\"M 128.535625 65.743507 \r\nL 145.275625 65.743507 \r\n\" style=\"fill:none;stroke:#000000;stroke-linecap:square;\"/>\r\n   </g>\r\n   <g id=\"line2d_24\"/>\r\n   <g id=\"line2d_25\">\r\n    <path clip-path=\"url(#pc0cd4a9d3e)\" d=\"M 187.125625 48.48821 \r\nL 220.605625 48.48821 \r\nL 220.605625 46.860974 \r\nL 187.125625 46.860974 \r\nL 187.125625 48.48821 \r\n\" style=\"fill:none;stroke:#000000;stroke-linecap:square;\"/>\r\n   </g>\r\n   <g id=\"line2d_26\">\r\n    <path clip-path=\"url(#pc0cd4a9d3e)\" d=\"M 203.865625 48.48821 \r\nL 203.865625 48.489247 \r\n\" style=\"fill:none;stroke:#000000;stroke-linecap:square;\"/>\r\n   </g>\r\n   <g id=\"line2d_27\">\r\n    <path clip-path=\"url(#pc0cd4a9d3e)\" d=\"M 203.865625 46.860974 \r\nL 203.865625 45.883636 \r\n\" style=\"fill:none;stroke:#000000;stroke-linecap:square;\"/>\r\n   </g>\r\n   <g id=\"line2d_28\">\r\n    <path clip-path=\"url(#pc0cd4a9d3e)\" d=\"M 195.495625 48.489247 \r\nL 212.235625 48.489247 \r\n\" style=\"fill:none;stroke:#000000;stroke-linecap:square;\"/>\r\n   </g>\r\n   <g id=\"line2d_29\">\r\n    <path clip-path=\"url(#pc0cd4a9d3e)\" d=\"M 195.495625 45.883636 \r\nL 212.235625 45.883636 \r\n\" style=\"fill:none;stroke:#000000;stroke-linecap:square;\"/>\r\n   </g>\r\n   <g id=\"line2d_30\"/>\r\n   <g id=\"line2d_31\">\r\n    <path clip-path=\"url(#pc0cd4a9d3e)\" d=\"M 254.085625 227.389831 \r\nL 287.565625 227.389831 \r\nL 287.565625 222.551641 \r\nL 254.085625 222.551641 \r\nL 254.085625 227.389831 \r\n\" style=\"fill:none;stroke:#000000;stroke-linecap:square;\"/>\r\n   </g>\r\n   <g id=\"line2d_32\">\r\n    <path clip-path=\"url(#pc0cd4a9d3e)\" d=\"M 270.825625 227.389831 \r\nL 270.825625 227.389831 \r\n\" style=\"fill:none;stroke:#000000;stroke-linecap:square;\"/>\r\n   </g>\r\n   <g id=\"line2d_33\">\r\n    <path clip-path=\"url(#pc0cd4a9d3e)\" d=\"M 270.825625 222.551641 \r\nL 270.825625 222.551641 \r\n\" style=\"fill:none;stroke:#000000;stroke-linecap:square;\"/>\r\n   </g>\r\n   <g id=\"line2d_34\">\r\n    <path clip-path=\"url(#pc0cd4a9d3e)\" d=\"M 262.455625 227.389831 \r\nL 279.195625 227.389831 \r\n\" style=\"fill:none;stroke:#000000;stroke-linecap:square;\"/>\r\n   </g>\r\n   <g id=\"line2d_35\">\r\n    <path clip-path=\"url(#pc0cd4a9d3e)\" d=\"M 262.455625 222.551641 \r\nL 279.195625 222.551641 \r\n\" style=\"fill:none;stroke:#000000;stroke-linecap:square;\"/>\r\n   </g>\r\n   <g id=\"line2d_36\">\r\n    <defs>\r\n     <path d=\"M 0 3 \r\nC 0.795609 3 1.55874 2.683901 2.12132 2.12132 \r\nC 2.683901 1.55874 3 0.795609 3 0 \r\nC 3 -0.795609 2.683901 -1.55874 2.12132 -2.12132 \r\nC 1.55874 -2.683901 0.795609 -3 0 -3 \r\nC -0.795609 -3 -1.55874 -2.683901 -2.12132 -2.12132 \r\nC -2.683901 -1.55874 -3 -0.795609 -3 0 \r\nC -3 0.795609 -2.683901 1.55874 -2.12132 2.12132 \r\nC -1.55874 2.683901 -0.795609 3 0 3 \r\nz\r\n\" id=\"md3e4519c07\" style=\"stroke:#000000;\"/>\r\n    </defs>\r\n    <g clip-path=\"url(#pc0cd4a9d3e)\">\r\n     <use style=\"fill-opacity:0;stroke:#000000;\" x=\"270.825625\" xlink:href=\"#md3e4519c07\" y=\"243.556364\"/>\r\n     <use style=\"fill-opacity:0;stroke:#000000;\" x=\"270.825625\" xlink:href=\"#md3e4519c07\" y=\"210.134534\"/>\r\n    </g>\r\n   </g>\r\n   <g id=\"line2d_37\">\r\n    <path clip-path=\"url(#pc0cd4a9d3e)\" d=\"M 321.045625 46.371994 \r\nL 354.525625 46.371994 \r\nL 354.525625 46.046837 \r\nL 321.045625 46.046837 \r\nL 321.045625 46.371994 \r\n\" style=\"fill:none;stroke:#000000;stroke-linecap:square;\"/>\r\n   </g>\r\n   <g id=\"line2d_38\">\r\n    <path clip-path=\"url(#pc0cd4a9d3e)\" d=\"M 337.785625 46.371994 \r\nL 337.785625 46.371994 \r\n\" style=\"fill:none;stroke:#000000;stroke-linecap:square;\"/>\r\n   </g>\r\n   <g id=\"line2d_39\">\r\n    <path clip-path=\"url(#pc0cd4a9d3e)\" d=\"M 337.785625 46.046837 \r\nL 337.785625 46.046422 \r\n\" style=\"fill:none;stroke:#000000;stroke-linecap:square;\"/>\r\n   </g>\r\n   <g id=\"line2d_40\">\r\n    <path clip-path=\"url(#pc0cd4a9d3e)\" d=\"M 329.415625 46.371994 \r\nL 346.155625 46.371994 \r\n\" style=\"fill:none;stroke:#000000;stroke-linecap:square;\"/>\r\n   </g>\r\n   <g id=\"line2d_41\">\r\n    <path clip-path=\"url(#pc0cd4a9d3e)\" d=\"M 329.415625 46.046422 \r\nL 346.155625 46.046422 \r\n\" style=\"fill:none;stroke:#000000;stroke-linecap:square;\"/>\r\n   </g>\r\n   <g id=\"line2d_42\">\r\n    <g clip-path=\"url(#pc0cd4a9d3e)\">\r\n     <use style=\"fill-opacity:0;stroke:#000000;\" x=\"337.785625\" xlink:href=\"#md3e4519c07\" y=\"46.860974\"/>\r\n    </g>\r\n   </g>\r\n   <g id=\"line2d_43\">\r\n    <path clip-path=\"url(#pc0cd4a9d3e)\" d=\"M 53.205625 68.354178 \r\nL 86.685625 68.354178 \r\n\" style=\"fill:none;stroke:#ff7f0e;stroke-linecap:square;\"/>\r\n   </g>\r\n   <g id=\"line2d_44\">\r\n    <path clip-path=\"url(#pc0cd4a9d3e)\" d=\"M 120.165625 68.679833 \r\nL 153.645625 68.679833 \r\n\" style=\"fill:none;stroke:#ff7f0e;stroke-linecap:square;\"/>\r\n   </g>\r\n   <g id=\"line2d_45\">\r\n    <path clip-path=\"url(#pc0cd4a9d3e)\" d=\"M 187.125625 48.000765 \r\nL 220.605625 48.000765 \r\n\" style=\"fill:none;stroke:#ff7f0e;stroke-linecap:square;\"/>\r\n   </g>\r\n   <g id=\"line2d_46\">\r\n    <path clip-path=\"url(#pc0cd4a9d3e)\" d=\"M 254.085625 227.273633 \r\nL 287.565625 227.273633 \r\n\" style=\"fill:none;stroke:#ff7f0e;stroke-linecap:square;\"/>\r\n   </g>\r\n   <g id=\"line2d_47\">\r\n    <path clip-path=\"url(#pc0cd4a9d3e)\" d=\"M 321.045625 46.209664 \r\nL 354.525625 46.209664 \r\n\" style=\"fill:none;stroke:#ff7f0e;stroke-linecap:square;\"/>\r\n   </g>\r\n   <g id=\"patch_3\">\r\n    <path d=\"M 36.465625 253.44 \r\nL 36.465625 36 \r\n\" style=\"fill:none;stroke:#000000;stroke-linecap:square;stroke-linejoin:miter;stroke-width:0.8;\"/>\r\n   </g>\r\n   <g id=\"patch_4\">\r\n    <path d=\"M 371.265625 253.44 \r\nL 371.265625 36 \r\n\" style=\"fill:none;stroke:#000000;stroke-linecap:square;stroke-linejoin:miter;stroke-width:0.8;\"/>\r\n   </g>\r\n   <g id=\"patch_5\">\r\n    <path d=\"M 36.465625 253.44 \r\nL 371.265625 253.44 \r\n\" style=\"fill:none;stroke:#000000;stroke-linecap:square;stroke-linejoin:miter;stroke-width:0.8;\"/>\r\n   </g>\r\n   <g id=\"patch_6\">\r\n    <path d=\"M 36.465625 36 \r\nL 371.265625 36 \r\n\" style=\"fill:none;stroke:#000000;stroke-linecap:square;stroke-linejoin:miter;stroke-width:0.8;\"/>\r\n   </g>\r\n  </g>\r\n  <g id=\"text_13\">\r\n   <!-- Algorithm Comparison -->\r\n   <defs>\r\n    <path d=\"M 9.421875 75.984375 \r\nL 18.40625 75.984375 \r\nL 18.40625 0 \r\nL 9.421875 0 \r\nz\r\n\" id=\"DejaVuSans-108\"/>\r\n    <path d=\"M 45.40625 27.984375 \r\nQ 45.40625 37.75 41.375 43.109375 \r\nQ 37.359375 48.484375 30.078125 48.484375 \r\nQ 22.859375 48.484375 18.828125 43.109375 \r\nQ 14.796875 37.75 14.796875 27.984375 \r\nQ 14.796875 18.265625 18.828125 12.890625 \r\nQ 22.859375 7.515625 30.078125 7.515625 \r\nQ 37.359375 7.515625 41.375 12.890625 \r\nQ 45.40625 18.265625 45.40625 27.984375 \r\nz\r\nM 54.390625 6.78125 \r\nQ 54.390625 -7.171875 48.1875 -13.984375 \r\nQ 42 -20.796875 29.203125 -20.796875 \r\nQ 24.46875 -20.796875 20.265625 -20.09375 \r\nQ 16.0625 -19.390625 12.109375 -17.921875 \r\nL 12.109375 -9.1875 \r\nQ 16.0625 -11.328125 19.921875 -12.34375 \r\nQ 23.78125 -13.375 27.78125 -13.375 \r\nQ 36.625 -13.375 41.015625 -8.765625 \r\nQ 45.40625 -4.15625 45.40625 5.171875 \r\nL 45.40625 9.625 \r\nQ 42.625 4.78125 38.28125 2.390625 \r\nQ 33.9375 0 27.875 0 \r\nQ 17.828125 0 11.671875 7.65625 \r\nQ 5.515625 15.328125 5.515625 27.984375 \r\nQ 5.515625 40.671875 11.671875 48.328125 \r\nQ 17.828125 56 27.875 56 \r\nQ 33.9375 56 38.28125 53.609375 \r\nQ 42.625 51.21875 45.40625 46.390625 \r\nL 45.40625 54.6875 \r\nL 54.390625 54.6875 \r\nz\r\n\" id=\"DejaVuSans-103\"/>\r\n    <path d=\"M 54.890625 33.015625 \r\nL 54.890625 0 \r\nL 45.90625 0 \r\nL 45.90625 32.71875 \r\nQ 45.90625 40.484375 42.875 44.328125 \r\nQ 39.84375 48.1875 33.796875 48.1875 \r\nQ 26.515625 48.1875 22.3125 43.546875 \r\nQ 18.109375 38.921875 18.109375 30.90625 \r\nL 18.109375 0 \r\nL 9.078125 0 \r\nL 9.078125 75.984375 \r\nL 18.109375 75.984375 \r\nL 18.109375 46.1875 \r\nQ 21.34375 51.125 25.703125 53.5625 \r\nQ 30.078125 56 35.796875 56 \r\nQ 45.21875 56 50.046875 50.171875 \r\nQ 54.890625 44.34375 54.890625 33.015625 \r\nz\r\n\" id=\"DejaVuSans-104\"/>\r\n    <path d=\"M 64.40625 67.28125 \r\nL 64.40625 56.890625 \r\nQ 59.421875 61.53125 53.78125 63.8125 \r\nQ 48.140625 66.109375 41.796875 66.109375 \r\nQ 29.296875 66.109375 22.65625 58.46875 \r\nQ 16.015625 50.828125 16.015625 36.375 \r\nQ 16.015625 21.96875 22.65625 14.328125 \r\nQ 29.296875 6.6875 41.796875 6.6875 \r\nQ 48.140625 6.6875 53.78125 8.984375 \r\nQ 59.421875 11.28125 64.40625 15.921875 \r\nL 64.40625 5.609375 \r\nQ 59.234375 2.09375 53.4375 0.328125 \r\nQ 47.65625 -1.421875 41.21875 -1.421875 \r\nQ 24.65625 -1.421875 15.125 8.703125 \r\nQ 5.609375 18.84375 5.609375 36.375 \r\nQ 5.609375 53.953125 15.125 64.078125 \r\nQ 24.65625 74.21875 41.21875 74.21875 \r\nQ 47.75 74.21875 53.53125 72.484375 \r\nQ 59.328125 70.75 64.40625 67.28125 \r\nz\r\n\" id=\"DejaVuSans-67\"/>\r\n    <path d=\"M 18.109375 8.203125 \r\nL 18.109375 -20.796875 \r\nL 9.078125 -20.796875 \r\nL 9.078125 54.6875 \r\nL 18.109375 54.6875 \r\nL 18.109375 46.390625 \r\nQ 20.953125 51.265625 25.265625 53.625 \r\nQ 29.59375 56 35.59375 56 \r\nQ 45.5625 56 51.78125 48.09375 \r\nQ 58.015625 40.1875 58.015625 27.296875 \r\nQ 58.015625 14.40625 51.78125 6.484375 \r\nQ 45.5625 -1.421875 35.59375 -1.421875 \r\nQ 29.59375 -1.421875 25.265625 0.953125 \r\nQ 20.953125 3.328125 18.109375 8.203125 \r\nz\r\nM 48.6875 27.296875 \r\nQ 48.6875 37.203125 44.609375 42.84375 \r\nQ 40.53125 48.484375 33.40625 48.484375 \r\nQ 26.265625 48.484375 22.1875 42.84375 \r\nQ 18.109375 37.203125 18.109375 27.296875 \r\nQ 18.109375 17.390625 22.1875 11.75 \r\nQ 26.265625 6.109375 33.40625 6.109375 \r\nQ 40.53125 6.109375 44.609375 11.75 \r\nQ 48.6875 17.390625 48.6875 27.296875 \r\nz\r\n\" id=\"DejaVuSans-112\"/>\r\n   </defs>\r\n   <g transform=\"translate(131.250625 16.318125)scale(0.12 -0.12)\">\r\n    <use xlink:href=\"#DejaVuSans-65\"/>\r\n    <use x=\"68.408203\" xlink:href=\"#DejaVuSans-108\"/>\r\n    <use x=\"96.191406\" xlink:href=\"#DejaVuSans-103\"/>\r\n    <use x=\"159.667969\" xlink:href=\"#DejaVuSans-111\"/>\r\n    <use x=\"220.849609\" xlink:href=\"#DejaVuSans-114\"/>\r\n    <use x=\"261.962891\" xlink:href=\"#DejaVuSans-105\"/>\r\n    <use x=\"289.746094\" xlink:href=\"#DejaVuSans-116\"/>\r\n    <use x=\"328.955078\" xlink:href=\"#DejaVuSans-104\"/>\r\n    <use x=\"392.333984\" xlink:href=\"#DejaVuSans-109\"/>\r\n    <use x=\"489.746094\" xlink:href=\"#DejaVuSans-32\"/>\r\n    <use x=\"521.533203\" xlink:href=\"#DejaVuSans-67\"/>\r\n    <use x=\"591.357422\" xlink:href=\"#DejaVuSans-111\"/>\r\n    <use x=\"652.539062\" xlink:href=\"#DejaVuSans-109\"/>\r\n    <use x=\"749.951172\" xlink:href=\"#DejaVuSans-112\"/>\r\n    <use x=\"813.427734\" xlink:href=\"#DejaVuSans-97\"/>\r\n    <use x=\"874.707031\" xlink:href=\"#DejaVuSans-114\"/>\r\n    <use x=\"915.820312\" xlink:href=\"#DejaVuSans-105\"/>\r\n    <use x=\"943.603516\" xlink:href=\"#DejaVuSans-115\"/>\r\n    <use x=\"995.703125\" xlink:href=\"#DejaVuSans-111\"/>\r\n    <use x=\"1056.884766\" xlink:href=\"#DejaVuSans-110\"/>\r\n   </g>\r\n  </g>\r\n </g>\r\n <defs>\r\n  <clipPath id=\"pc0cd4a9d3e\">\r\n   <rect height=\"217.44\" width=\"334.8\" x=\"36.465625\" y=\"36\"/>\r\n  </clipPath>\r\n </defs>\r\n</svg>\r\n",
            "image/png": "[encoded data removed]"
          },
          "metadata": {
            "needs_background": "light"
          }
        }
      ],
      "metadata": {}
    },
    {
      "cell_type": "markdown",
      "source": [
        "we can see that random forest is the best model, we will try ot tune parameters of the two of the best models and keep the one wihch performs better"
      ],
      "metadata": {}
    },
    {
      "cell_type": "code",
      "execution_count": null,
      "source": [
        "x_train, x_test, y_train,  y_test = train_test_split(df_data, df_target, test_size=0.2, random_state=0)"
      ],
      "outputs": [],
      "metadata": {}
    },
    {
      "cell_type": "code",
      "execution_count": null,
      "source": [
        "# I did not test a lot of parameters in purpose to reduce execution time during the exam\r\n",
        "params = {\r\n",
        "    'bootstrap': [True],\r\n",
        "    'min_samples_leaf': [3, 4],\r\n",
        "    'min_samples_split': [8, 10]\r\n",
        "}\r\n",
        "\r\n",
        "rf = RandomForestClassifier()\r\n",
        "gcv = GridSearchCV(rf, params, scoring='accuracy', refit=True, n_jobs=-1, verbose =3)\r\n",
        "\r\n",
        "gcv.fit(x_train, y_train)"
      ],
      "outputs": [
        {
          "output_type": "stream",
          "name": "stdout",
          "text": [
            "Fitting 5 folds for each of 4 candidates, totalling 20 fits\n"
          ]
        },
        {
          "output_type": "stream",
          "name": "stderr",
          "text": [
            "[Parallel(n_jobs=-1)]: Using backend LokyBackend with 4 concurrent workers.\n",
            "[Parallel(n_jobs=-1)]: Done  20 out of  20 | elapsed:   53.3s remaining:    0.0s\n",
            "[Parallel(n_jobs=-1)]: Done  20 out of  20 | elapsed:   53.3s finished\n"
          ]
        },
        {
          "output_type": "execute_result",
          "data": {
            "text/plain": [
              "GridSearchCV(estimator=RandomForestClassifier(), n_jobs=-1,\n",
              "             param_grid={'bootstrap': [True], 'min_samples_leaf': [3, 4],\n",
              "                         'min_samples_split': [8, 10]},\n",
              "             scoring='accuracy', verbose=3)"
            ]
          },
          "metadata": {},
          "execution_count": 63
        }
      ],
      "metadata": {}
    },
    {
      "cell_type": "code",
      "execution_count": null,
      "source": [
        "best_params = gcv.best_params_\r\n",
        "for p in best_params:\r\n",
        "  print(\"%s : %s\" % (p, best_params[p]))"
      ],
      "outputs": [
        {
          "output_type": "stream",
          "name": "stdout",
          "text": [
            "bootstrap : True\n",
            "min_samples_leaf : 3\n",
            "min_samples_split : 8\n"
          ]
        }
      ],
      "metadata": {}
    }
  ]
}